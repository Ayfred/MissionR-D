{
 "cells": [
  {
   "cell_type": "code",
   "execution_count": 7,
   "metadata": {},
   "outputs": [],
   "source": [
    "from bs4 import BeautifulSoup\n",
    "import requests\n",
    "\n",
    "url='https://play.google.com/store/search?q=health&c=apps&hl=fr'\n",
    "req=requests.get(url)\n",
    "\n",
    "soup = BeautifulSoup(req.content, 'html.parser')\n",
    "\n",
    "cards= soup.find_all(\"div\",class_=\"VfPpkd-EScbFb-JIbuQc TAQqTe\")"
   ]
  },
  {
   "cell_type": "code",
   "execution_count": 10,
   "metadata": {},
   "outputs": [
    {
     "name": "stdout",
     "output_type": "stream",
     "text": [
      "App: Samsung Health\n",
      "Company: Samsung Electronics Co.,  Ltd.\n",
      "Link : /store/apps/details?id=com.sec.android.app.shealth\n",
      "id : com.sec.android.app.shealth\n",
      "https://play.google.com/store/apps/details?id=com.sec.android.app.shealth\n",
      "App: Google Fit : suivi d'activité\n",
      "Company: Google LLC\n",
      "Link : /store/apps/details?id=com.google.android.apps.fitness\n",
      "id : com.google.android.apps.fitness\n",
      "https://play.google.com/store/apps/details?id=com.google.android.apps.fitness\n",
      "App: Santé Connect (version bêta)\n",
      "Company: Google LLC\n",
      "Link : /store/apps/details?id=com.google.android.apps.healthdata\n",
      "id : com.google.android.apps.healthdata\n",
      "https://play.google.com/store/apps/details?id=com.google.android.apps.healthdata\n",
      "App: Withings Health Mate\n",
      "Company: Withings\n",
      "Link : /store/apps/details?id=com.withings.wiscale2\n",
      "id : com.withings.wiscale2\n",
      "https://play.google.com/store/apps/details?id=com.withings.wiscale2\n",
      "App: Tracker de Pas - Podomètre\n",
      "Company: Leap Fitness Group\n",
      "Link : /store/apps/details?id=steptracker.healthandfitness.walkingtracker.pedometer\n",
      "id : steptracker.healthandfitness.walkingtracker.pedometer\n",
      "https://play.google.com/store/apps/details?id=steptracker.healthandfitness.walkingtracker.pedometer\n",
      "App: Health Sync\n",
      "Company: appyhapps.nl\n",
      "Link : /store/apps/details?id=nl.appyhapps.healthsync\n",
      "id : nl.appyhapps.healthsync\n",
      "https://play.google.com/store/apps/details?id=nl.appyhapps.healthsync\n",
      "App: Suivi de la Santé\n",
      "Company: DROID INFINITY\n",
      "Link : /store/apps/details?id=com.droidinfinity.healthplus\n",
      "id : com.droidinfinity.healthplus\n",
      "https://play.google.com/store/apps/details?id=com.droidinfinity.healthplus\n",
      "App: Google Health Studies\n",
      "Company: Google LLC\n",
      "Link : /store/apps/details?id=com.google.android.apps.health.research.studies\n",
      "id : com.google.android.apps.health.research.studies\n",
      "https://play.google.com/store/apps/details?id=com.google.android.apps.health.research.studies\n",
      "App: Santé et remise en forme -Podo\n",
      "Company: Digit Grove\n",
      "Link : /store/apps/details?id=com.androidapps.healthmanager\n",
      "id : com.androidapps.healthmanager\n",
      "https://play.google.com/store/apps/details?id=com.androidapps.healthmanager\n",
      "App: Lifesum: Manger sain\n",
      "Company: Lifesum\n",
      "Link : /store/apps/details?id=com.sillens.shapeupclub\n",
      "id : com.sillens.shapeupclub\n",
      "https://play.google.com/store/apps/details?id=com.sillens.shapeupclub\n",
      "App: Health Platform\n",
      "Company: Samsung Electronics Co.,  Ltd.\n",
      "Link : /store/apps/details?id=com.samsung.android.service.health\n",
      "id : com.samsung.android.service.health\n",
      "https://play.google.com/store/apps/details?id=com.samsung.android.service.health\n",
      "App: Samsung Health\n",
      "Company: Samsung Electronics Co.,  Ltd.\n",
      "Link : /store/apps/details?id=com.samsung.android.wear.shealth\n",
      "id : com.samsung.android.wear.shealth\n",
      "https://play.google.com/store/apps/details?id=com.samsung.android.wear.shealth\n",
      "App: Ada – contrôle ta santé\n",
      "Company: Ada Health\n",
      "Link : /store/apps/details?id=com.ada.app\n",
      "id : com.ada.app\n",
      "https://play.google.com/store/apps/details?id=com.ada.app\n",
      "App: K Health | 24/7 Virtual Care\n",
      "Company: K Health\n",
      "Link : /store/apps/details?id=ai.kanghealth\n",
      "id : ai.kanghealth\n",
      "https://play.google.com/store/apps/details?id=ai.kanghealth\n",
      "App: OnePlus Health\n",
      "Company: OnePlus Ltd.\n",
      "Link : /store/apps/details?id=com.oneplus.health.international\n",
      "id : com.oneplus.health.international\n",
      "https://play.google.com/store/apps/details?id=com.oneplus.health.international\n",
      "App: HeyTap Health\n",
      "Company: ColorOS\n",
      "Link : /store/apps/details?id=com.heytap.health.international\n",
      "id : com.heytap.health.international\n",
      "https://play.google.com/store/apps/details?id=com.heytap.health.international\n",
      "App: ‎MyPossibleSelf: Mental Health\n",
      "Company: My Possible Self Ltd\n",
      "Link : /store/apps/details?id=com.mypossibleself.app\n",
      "id : com.mypossibleself.app\n",
      "https://play.google.com/store/apps/details?id=com.mypossibleself.app\n",
      "App: Moniteur de santé personnel\n",
      "Company: Extrawest\n",
      "Link : /store/apps/details?id=com.extrawest.healthcare_flutter_app\n",
      "id : com.extrawest.healthcare_flutter_app\n",
      "https://play.google.com/store/apps/details?id=com.extrawest.healthcare_flutter_app\n",
      "App: Healthy Together\n",
      "Company: Twenty Inc.\n",
      "Link : /store/apps/details?id=co.twenty.stop.spread\n",
      "id : co.twenty.stop.spread\n",
      "https://play.google.com/store/apps/details?id=co.twenty.stop.spread\n",
      "App: Cardiogram: Heart Rate Monitor\n",
      "Company: Cardiogram, Inc.\n",
      "Link : /store/apps/details?id=com.cardiogram.v1\n",
      "id : com.cardiogram.v1\n",
      "https://play.google.com/store/apps/details?id=com.cardiogram.v1\n",
      "App: Lefun Health\n",
      "Company: TENG JINDA\n",
      "Link : /store/apps/details?id=com.tjd.tjdmainS2\n",
      "id : com.tjd.tjdmainS2\n",
      "https://play.google.com/store/apps/details?id=com.tjd.tjdmainS2\n",
      "App: healow\n",
      "Company: eClinicalWorks LLC\n",
      "Link : /store/apps/details?id=com.ecw.healow\n",
      "id : com.ecw.healow\n",
      "https://play.google.com/store/apps/details?id=com.ecw.healow\n",
      "App: FollowMyHealth®\n",
      "Company: Allscripts Healthcare Solutions Inc\n",
      "Link : /store/apps/details?id=com.jardogs.fmhmobile\n",
      "id : com.jardogs.fmhmobile\n",
      "https://play.google.com/store/apps/details?id=com.jardogs.fmhmobile\n",
      "App: Sydney Health\n",
      "Company: Elevance Health, Inc.\n",
      "Link : /store/apps/details?id=com.anthem.sydney\n",
      "id : com.anthem.sydney\n",
      "https://play.google.com/store/apps/details?id=com.anthem.sydney\n",
      "App: Mobile Health Consumer\n",
      "Company: Mobile Health Consumer, Inc.\n",
      "Link : /store/apps/details?id=com.mobilehealthconsumer.mhc\n",
      "id : com.mobilehealthconsumer.mhc\n",
      "https://play.google.com/store/apps/details?id=com.mobilehealthconsumer.mhc\n",
      "App: Healthy Benefits+\n",
      "Company: Solutran, Inc.\n",
      "Link : /store/apps/details?id=com.solutran.otc\n",
      "id : com.solutran.otc\n",
      "https://play.google.com/store/apps/details?id=com.solutran.otc\n",
      "App: NYU Langone Health\n",
      "Company: NYU Langone Health\n",
      "Link : /store/apps/details?id=org.nyulmc.clinical.mychart\n",
      "id : org.nyulmc.clinical.mychart\n",
      "https://play.google.com/store/apps/details?id=org.nyulmc.clinical.mychart\n",
      "App: Welltory: cohérence cardiaque\n",
      "Company: Welltory: heart-rate monitor & blood pressure log\n",
      "Link : /store/apps/details?id=com.welltory.client.android\n",
      "id : com.welltory.client.android\n",
      "https://play.google.com/store/apps/details?id=com.welltory.client.android\n",
      "App: VOS – thérapie bien-être\n",
      "Company: VOS.health\n",
      "Link : /store/apps/details?id=com.vos.app\n",
      "id : com.vos.app\n",
      "https://play.google.com/store/apps/details?id=com.vos.app\n",
      "App: Calorie Counter App: Fooducate\n",
      "Company: Maple Media\n",
      "Link : /store/apps/details?id=com.fooducate.nutritionapp\n",
      "id : com.fooducate.nutritionapp\n",
      "https://play.google.com/store/apps/details?id=com.fooducate.nutritionapp\n"
     ]
    }
   ],
   "source": [
    "Links = []\n",
    "id = []\n",
    "i = 0\n",
    "for card in cards:\n",
    "    app_name= card.find(\"span\",class_=\"DdYX5\").text\n",
    "    company = card.find(\"span\",class_=\"wMUdtb\").text\n",
    "    link = card.find(\"a\", class_ =\"Si6A0c Gy4nib\")['href']\n",
    "    #print(link+ \"&hl=fr\")\n",
    "    #id.append(link[23:]+ \"&hl=fr\")\n",
    "    id.append(link[23:])\n",
    "\n",
    "    Links.append(\"https://play.google.com\"+ link)\n",
    "\n",
    "    print(\"App: \" +app_name)\n",
    "    print(\"Company: \" + company)\n",
    "    print(\"Link : \" + link)\n",
    "    print(\"id : \" + id[i])\n",
    "    print(Links[i])\n",
    "    i += 1\n"
   ]
  },
  {
   "cell_type": "code",
   "execution_count": 11,
   "metadata": {},
   "outputs": [
    {
     "name": "stdout",
     "output_type": "stream",
     "text": [
      "['com.sec.android.app.shealth', 'com.google.android.apps.fitness', 'com.google.android.apps.healthdata', 'com.withings.wiscale2', 'steptracker.healthandfitness.walkingtracker.pedometer', 'nl.appyhapps.healthsync', 'com.droidinfinity.healthplus', 'com.google.android.apps.health.research.studies', 'com.androidapps.healthmanager', 'com.sillens.shapeupclub', 'com.samsung.android.service.health', 'com.samsung.android.wear.shealth', 'com.ada.app', 'ai.kanghealth', 'com.oneplus.health.international', 'com.heytap.health.international', 'com.mypossibleself.app', 'com.extrawest.healthcare_flutter_app', 'co.twenty.stop.spread', 'com.cardiogram.v1', 'com.tjd.tjdmainS2', 'com.ecw.healow', 'com.jardogs.fmhmobile', 'com.anthem.sydney', 'com.mobilehealthconsumer.mhc', 'com.solutran.otc', 'org.nyulmc.clinical.mychart', 'com.welltory.client.android', 'com.vos.app', 'com.fooducate.nutritionapp']\n"
     ]
    }
   ],
   "source": [
    "print(id)"
   ]
  },
  {
   "cell_type": "code",
   "execution_count": 4,
   "metadata": {},
   "outputs": [],
   "source": [
    "import pandas as pd\n",
    "import numpy as np"
   ]
  },
  {
   "cell_type": "code",
   "execution_count": 12,
   "metadata": {},
   "outputs": [],
   "source": [
    "from google_play_scraper import Sort, reviews_all\n",
    "\n",
    "single_id = id[0]\n",
    "\n",
    "fr_reviews = reviews_all(\n",
    "    single_id,\n",
    "    sleep_milliseconds=0, # defaults to 0\n",
    "    lang='fr', # defaults to 'en'\n",
    "    country='fr', # defaults to 'us'\n",
    "    sort=Sort.NEWEST, # defaults to Sort.MOST_RELEVANT\n",
    ")"
   ]
  },
  {
   "cell_type": "code",
   "execution_count": 13,
   "metadata": {},
   "outputs": [
    {
     "name": "stdout",
     "output_type": "stream",
     "text": [
      "18766\n"
     ]
    }
   ],
   "source": [
    "print(len(fr_reviews))"
   ]
  },
  {
   "cell_type": "code",
   "execution_count": 14,
   "metadata": {},
   "outputs": [
    {
     "data": {
      "text/html": [
       "<div>\n",
       "<style scoped>\n",
       "    .dataframe tbody tr th:only-of-type {\n",
       "        vertical-align: middle;\n",
       "    }\n",
       "\n",
       "    .dataframe tbody tr th {\n",
       "        vertical-align: top;\n",
       "    }\n",
       "\n",
       "    .dataframe thead th {\n",
       "        text-align: right;\n",
       "    }\n",
       "</style>\n",
       "<table border=\"1\" class=\"dataframe\">\n",
       "  <thead>\n",
       "    <tr style=\"text-align: right;\">\n",
       "      <th></th>\n",
       "      <th>reviewId</th>\n",
       "      <th>userName</th>\n",
       "      <th>userImage</th>\n",
       "      <th>content</th>\n",
       "      <th>score</th>\n",
       "      <th>thumbsUpCount</th>\n",
       "      <th>reviewCreatedVersion</th>\n",
       "      <th>at</th>\n",
       "      <th>replyContent</th>\n",
       "      <th>repliedAt</th>\n",
       "    </tr>\n",
       "  </thead>\n",
       "  <tbody>\n",
       "    <tr>\n",
       "      <th>0</th>\n",
       "      <td>8eca7aa9-c0d5-4a7e-a1cd-c6ac80c4db4c</td>\n",
       "      <td>Leonard Jan</td>\n",
       "      <td>https://play-lh.googleusercontent.com/a/AGNmyx...</td>\n",
       "      <td>Bonjour, Avis aux Amateurs et Professionnels, ...</td>\n",
       "      <td>4</td>\n",
       "      <td>52</td>\n",
       "      <td>6.22.7.003</td>\n",
       "      <td>2023-01-25 08:21:00</td>\n",
       "      <td>None</td>\n",
       "      <td>NaT</td>\n",
       "    </tr>\n",
       "    <tr>\n",
       "      <th>1</th>\n",
       "      <td>cae71f7d-ca39-4172-88c4-1df3c99c7b0b</td>\n",
       "      <td>Frédéric</td>\n",
       "      <td>https://play-lh.googleusercontent.com/a-/ACB-R...</td>\n",
       "      <td>05/2021 : La synchronisation automatique avec ...</td>\n",
       "      <td>3</td>\n",
       "      <td>109</td>\n",
       "      <td>6.22.6.005</td>\n",
       "      <td>2022-11-11 19:24:31</td>\n",
       "      <td>None</td>\n",
       "      <td>NaT</td>\n",
       "    </tr>\n",
       "    <tr>\n",
       "      <th>2</th>\n",
       "      <td>8be7507f-6453-4160-99d1-f43eeda7405e</td>\n",
       "      <td>either or both</td>\n",
       "      <td>https://play-lh.googleusercontent.com/a-/ACB-R...</td>\n",
       "      <td>très bonne application pour se fixer des objec...</td>\n",
       "      <td>4</td>\n",
       "      <td>62</td>\n",
       "      <td>6.22.5.039</td>\n",
       "      <td>2022-10-23 15:41:38</td>\n",
       "      <td>None</td>\n",
       "      <td>NaT</td>\n",
       "    </tr>\n",
       "    <tr>\n",
       "      <th>3</th>\n",
       "      <td>f012a7cd-b1a5-48ec-913f-a7caa6176f94</td>\n",
       "      <td>Nathanael Heitz</td>\n",
       "      <td>https://play-lh.googleusercontent.com/a-/ACB-R...</td>\n",
       "      <td>Bonne application, ergonomique et fiable. Cepe...</td>\n",
       "      <td>4</td>\n",
       "      <td>21</td>\n",
       "      <td>6.22.5.039</td>\n",
       "      <td>2022-11-07 09:43:04</td>\n",
       "      <td>None</td>\n",
       "      <td>NaT</td>\n",
       "    </tr>\n",
       "    <tr>\n",
       "      <th>4</th>\n",
       "      <td>929c1b01-6d83-4ec5-a73b-70c6e08a5608</td>\n",
       "      <td>Camille Ellimac</td>\n",
       "      <td>https://play-lh.googleusercontent.com/a-/ACB-R...</td>\n",
       "      <td>Jusqu'à présent j'étais satisfaite de l'applic...</td>\n",
       "      <td>4</td>\n",
       "      <td>2</td>\n",
       "      <td>None</td>\n",
       "      <td>2023-01-14 08:06:29</td>\n",
       "      <td>None</td>\n",
       "      <td>NaT</td>\n",
       "    </tr>\n",
       "  </tbody>\n",
       "</table>\n",
       "</div>"
      ],
      "text/plain": [
       "                               reviewId         userName  \\\n",
       "0  8eca7aa9-c0d5-4a7e-a1cd-c6ac80c4db4c      Leonard Jan   \n",
       "1  cae71f7d-ca39-4172-88c4-1df3c99c7b0b         Frédéric   \n",
       "2  8be7507f-6453-4160-99d1-f43eeda7405e   either or both   \n",
       "3  f012a7cd-b1a5-48ec-913f-a7caa6176f94  Nathanael Heitz   \n",
       "4  929c1b01-6d83-4ec5-a73b-70c6e08a5608  Camille Ellimac   \n",
       "\n",
       "                                           userImage  \\\n",
       "0  https://play-lh.googleusercontent.com/a/AGNmyx...   \n",
       "1  https://play-lh.googleusercontent.com/a-/ACB-R...   \n",
       "2  https://play-lh.googleusercontent.com/a-/ACB-R...   \n",
       "3  https://play-lh.googleusercontent.com/a-/ACB-R...   \n",
       "4  https://play-lh.googleusercontent.com/a-/ACB-R...   \n",
       "\n",
       "                                             content  score  thumbsUpCount  \\\n",
       "0  Bonjour, Avis aux Amateurs et Professionnels, ...      4             52   \n",
       "1  05/2021 : La synchronisation automatique avec ...      3            109   \n",
       "2  très bonne application pour se fixer des objec...      4             62   \n",
       "3  Bonne application, ergonomique et fiable. Cepe...      4             21   \n",
       "4  Jusqu'à présent j'étais satisfaite de l'applic...      4              2   \n",
       "\n",
       "  reviewCreatedVersion                  at replyContent repliedAt  \n",
       "0           6.22.7.003 2023-01-25 08:21:00         None       NaT  \n",
       "1           6.22.6.005 2022-11-11 19:24:31         None       NaT  \n",
       "2           6.22.5.039 2022-10-23 15:41:38         None       NaT  \n",
       "3           6.22.5.039 2022-11-07 09:43:04         None       NaT  \n",
       "4                 None 2023-01-14 08:06:29         None       NaT  "
      ]
     },
     "execution_count": 14,
     "metadata": {},
     "output_type": "execute_result"
    }
   ],
   "source": [
    "df_busu = pd.DataFrame(np.array(fr_reviews),columns=['review'])\n",
    "\n",
    "df_busu = df_busu.join(pd.DataFrame(df_busu.pop('review').tolist()))\n",
    "\n",
    "df_busu.head()"
   ]
  },
  {
   "cell_type": "code",
   "execution_count": 36,
   "metadata": {},
   "outputs": [],
   "source": [
    "df_busu['content'].to_csv(\"GooglePlayReviews.csv\", index = False, header = True, encoding='utf-8')\n"
   ]
  },
  {
   "cell_type": "code",
   "execution_count": 34,
   "metadata": {},
   "outputs": [
    {
     "name": "stdout",
     "output_type": "stream",
     "text": [
      "Requirement already satisfied: google-api-python-client in d:\\program fil\\python\\python311\\lib\\site-packages (2.78.0)\n",
      "Requirement already satisfied: httplib2<1dev,>=0.15.0 in d:\\program fil\\python\\python311\\lib\\site-packages (from google-api-python-client) (0.21.0)\n",
      "Requirement already satisfied: google-auth<3.0.0dev,>=1.19.0 in d:\\program fil\\python\\python311\\lib\\site-packages (from google-api-python-client) (2.16.0)\n",
      "Requirement already satisfied: google-auth-httplib2>=0.1.0 in d:\\program fil\\python\\python311\\lib\\site-packages (from google-api-python-client) (0.1.0)\n",
      "Requirement already satisfied: google-api-core!=2.0.*,!=2.1.*,!=2.2.*,!=2.3.0,<3.0.0dev,>=1.31.5 in d:\\program fil\\python\\python311\\lib\\site-packages (from google-api-python-client) (2.11.0)\n",
      "Requirement already satisfied: uritemplate<5,>=3.0.1 in d:\\program fil\\python\\python311\\lib\\site-packages (from google-api-python-client) (4.1.1)\n",
      "Requirement already satisfied: googleapis-common-protos<2.0dev,>=1.56.2 in d:\\program fil\\python\\python311\\lib\\site-packages (from google-api-core!=2.0.*,!=2.1.*,!=2.2.*,!=2.3.0,<3.0.0dev,>=1.31.5->google-api-python-client) (1.58.0)\n",
      "Requirement already satisfied: protobuf!=3.20.0,!=3.20.1,!=4.21.0,!=4.21.1,!=4.21.2,!=4.21.3,!=4.21.4,!=4.21.5,<5.0.0dev,>=3.19.5 in d:\\program fil\\python\\python311\\lib\\site-packages (from google-api-core!=2.0.*,!=2.1.*,!=2.2.*,!=2.3.0,<3.0.0dev,>=1.31.5->google-api-python-client) (4.22.0)\n",
      "Requirement already satisfied: requests<3.0.0dev,>=2.18.0 in d:\\program fil\\python\\python311\\lib\\site-packages (from google-api-core!=2.0.*,!=2.1.*,!=2.2.*,!=2.3.0,<3.0.0dev,>=1.31.5->google-api-python-client) (2.28.2)\n",
      "Requirement already satisfied: cachetools<6.0,>=2.0.0 in d:\\program fil\\python\\python311\\lib\\site-packages (from google-auth<3.0.0dev,>=1.19.0->google-api-python-client) (5.3.0)\n",
      "Requirement already satisfied: pyasn1-modules>=0.2.1 in d:\\program fil\\python\\python311\\lib\\site-packages (from google-auth<3.0.0dev,>=1.19.0->google-api-python-client) (0.2.8)\n",
      "Requirement already satisfied: six>=1.9.0 in d:\\program fil\\python\\python311\\lib\\site-packages (from google-auth<3.0.0dev,>=1.19.0->google-api-python-client) (1.16.0)\n",
      "Requirement already satisfied: rsa<5,>=3.1.4 in d:\\program fil\\python\\python311\\lib\\site-packages (from google-auth<3.0.0dev,>=1.19.0->google-api-python-client) (4.9)\n",
      "Requirement already satisfied: pyparsing!=3.0.0,!=3.0.1,!=3.0.2,!=3.0.3,<4,>=2.4.2 in d:\\program fil\\python\\python311\\lib\\site-packages (from httplib2<1dev,>=0.15.0->google-api-python-client) (3.0.9)\n",
      "Requirement already satisfied: pyasn1<0.5.0,>=0.4.6 in d:\\program fil\\python\\python311\\lib\\site-packages (from pyasn1-modules>=0.2.1->google-auth<3.0.0dev,>=1.19.0->google-api-python-client) (0.4.8)\n",
      "Requirement already satisfied: charset-normalizer<4,>=2 in d:\\program fil\\python\\python311\\lib\\site-packages (from requests<3.0.0dev,>=2.18.0->google-api-core!=2.0.*,!=2.1.*,!=2.2.*,!=2.3.0,<3.0.0dev,>=1.31.5->google-api-python-client) (2.1.1)\n",
      "Requirement already satisfied: idna<4,>=2.5 in d:\\program fil\\python\\python311\\lib\\site-packages (from requests<3.0.0dev,>=2.18.0->google-api-core!=2.0.*,!=2.1.*,!=2.2.*,!=2.3.0,<3.0.0dev,>=1.31.5->google-api-python-client) (3.4)\n",
      "Requirement already satisfied: urllib3<1.27,>=1.21.1 in d:\\program fil\\python\\python311\\lib\\site-packages (from requests<3.0.0dev,>=2.18.0->google-api-core!=2.0.*,!=2.1.*,!=2.2.*,!=2.3.0,<3.0.0dev,>=1.31.5->google-api-python-client) (1.26.14)\n",
      "Requirement already satisfied: certifi>=2017.4.17 in d:\\program fil\\python\\python311\\lib\\site-packages (from requests<3.0.0dev,>=2.18.0->google-api-core!=2.0.*,!=2.1.*,!=2.2.*,!=2.3.0,<3.0.0dev,>=1.31.5->google-api-python-client) (2022.12.7)\n"
     ]
    }
   ],
   "source": [
    "!pip install google-api-python-client"
   ]
  },
  {
   "cell_type": "code",
   "execution_count": 27,
   "metadata": {},
   "outputs": [],
   "source": [
    "from google_play_scraper import app\n",
    "import pandas as pd\n",
    "\n",
    "result = app(\n",
    "    single_id,\n",
    "    lang='fr', # defaults to 'en'\n",
    "    country='fr' # defaults to 'us'\n",
    ")"
   ]
  },
  {
   "cell_type": "code",
   "execution_count": 30,
   "metadata": {},
   "outputs": [
    {
     "name": "stdout",
     "output_type": "stream",
     "text": [
      "{'title': 'Samsung Health', 'description': \"Commencez à prendre des habitudes saines grâce à Samsung Health.\\r\\n\\r\\nSamsung Health dispose de plusieurs fonctions pour vous aider à gérer votre santé. Comme l’application vous permet d’enregistrer automatiquement de nombreuses activités, il est plus facile que jamais de mettre en place un style de vie plus sain.\\r\\n\\r\\nConsultez vos différents enregistrements de santé sur l’écran d’accueil de Samsung Health. Ajoutez et modifiez facilement les éléments que vous souhaitez gérer, comme votre nombre de pas quotidiens, votre temps d’activité et votre poids corporel, simplement en appuyant longtemps sur l’écran.\\r\\n\\r\\nGardez toujours la forme avec Samsung Health. Définissez des objectifs et suivez quotidiennement votre niveau d'activité, l'intensité des entraînements, la qualité du sommeil, et la consommation d'eau et de calories. Avec Galaxy Watch, Life Fitness, Technogym et Corehealth, optimisez vos entraînements.\\r\\n\\r\\nDéveloppez des habitudes alimentaires saines grâce à Samsung Health qui vous permet d’enregistrer vos repas et encas quotidiens.\\r\\n\\r\\nEntraînez-vous dur et restez toujours au meilleur de votre forme grâce à Samsung Health. Fixez des objectifs correspondant à votre propre niveau et suivez votre progression quotidienne incluant, entre autres, votre niveau d’activité, l’intensité de vos entraînements, votre qualité de sommeil, votre rythme cardiaque, votre niveau de stress, votre taux d’oxygénation sanguine. \\r\\n\\r\\nSurveillez vos habitudes de sommeil de manière plus détaillée grâce à votre Galaxy Watch. Rendez vos matinées plus toniques en améliorant la qualité de votre sommeil grâce aux niveaux de sommeil et aux notes attribuées au sommeil.\\r\\n\\r\\nAvoir une bonne condition physique est une question de motivation. Défiez vos amis et votre famille pour améliorer votre santé de manière plus ludique et interactive grâce au service Partage de Samsung Health.\\r\\n\\r\\nMarre de la routine ? Samsung Health a préparé des vidéos dans lesquelles des entraîneurs professionnels vont vous apprendre de nouveaux programmes de fitness axés sur les étirements, la perte de poids, l'endurance, etc.\\r\\n\\r\\nDétendez-vous, corps, esprit et âme. Découvrez des outils de méditation en Pleine consc pour relâcher le stress de la journée.\\r\\n\\r\\n(Certains contenus ne sont disponibles que sur abonnement payant en option. Contenu disponible en anglais, allemand, coréen, espagnol, français et portugais.)\\r\\n\\r\\nSanté des femmes offre une assistance utile dans le suivi du cycle menstruel et la gestion des symtômes associés, ainsi que des informations et du contenu personnalisés grâce à notre partenaire, Glow. Les accessoires portables Galaxy et d'autres marques soutiennent les femmes que nous aimons dans chaque étape de leur vie.\\r\\n \\r\\nSamsung Health protège vos données de santé privées en toute sécurité. Le service Samsung Health compatible avec Knox sera disponible sur tous les modèles Samsung Galaxy ultérieurs au mois d'août 2016. Notez que le service Samsung Health compatible avec Knox ne sera pas disponible sur les appareils mobiles rootés. \\r\\n\\r\\nSamsung Health requiert Android 8.0 (Oreo) ou une version ultérieure. \\r\\n\\r\\nLes tablettes et certains appareils mobiles ne sont pas pris en charge, et les fonctions détaillées varient selon le pays et la région de résidence de l’utilisateur, son prestataire de réseau, le modèle de son appareil, etc.\\r\\n\\r\\nSamsung Health est disponible dans plus de 70 langues, y compris l'anglais, le français et le chinois. Pour les langues non disponibles, la version anglaise de l'application sera proposée. \\r\\n\\r\\nNotez que Samsung Health n'est destiné à être utilisé que pour améliorer votre bien-être et votre forme physique, et n'a pas pour vocation le diagnostic de maladies ou affections, ni de soigner, contrôler, traiter ou prévenir des maladies.\", 'descriptionHTML': 'Commencez à prendre des habitudes saines grâce à Samsung Health.<br><br>Samsung Health dispose de plusieurs fonctions pour vous aider à gérer votre santé. Comme l’application vous permet d’enregistrer automatiquement de nombreuses activités, il est plus facile que jamais de mettre en place un style de vie plus sain.<br><br>Consultez vos différents enregistrements de santé sur l’écran d’accueil de Samsung Health. Ajoutez et modifiez facilement les éléments que vous souhaitez gérer, comme votre nombre de pas quotidiens, votre temps d’activité et votre poids corporel, simplement en appuyant longtemps sur l’écran.<br><br>Gardez toujours la forme avec Samsung Health. Définissez des objectifs et suivez quotidiennement votre niveau d&#39;activité, l&#39;intensité des entraînements, la qualité du sommeil, et la consommation d&#39;eau et de calories. Avec Galaxy Watch, Life Fitness, Technogym et Corehealth, optimisez vos entraînements.<br><br>Développez des habitudes alimentaires saines grâce à Samsung Health qui vous permet d’enregistrer vos repas et encas quotidiens.<br><br>Entraînez-vous dur et restez toujours au meilleur de votre forme grâce à Samsung Health. Fixez des objectifs correspondant à votre propre niveau et suivez votre progression quotidienne incluant, entre autres, votre niveau d’activité, l’intensité de vos entraînements, votre qualité de sommeil, votre rythme cardiaque, votre niveau de stress, votre taux d’oxygénation sanguine. <br><br>Surveillez vos habitudes de sommeil de manière plus détaillée grâce à votre Galaxy Watch. Rendez vos matinées plus toniques en améliorant la qualité de votre sommeil grâce aux niveaux de sommeil et aux notes attribuées au sommeil.<br><br>Avoir une bonne condition physique est une question de motivation. Défiez vos amis et votre famille pour améliorer votre santé de manière plus ludique et interactive grâce au service Partage de Samsung Health.<br><br>Marre de la routine ? Samsung Health a préparé des vidéos dans lesquelles des entraîneurs professionnels vont vous apprendre de nouveaux programmes de fitness axés sur les étirements, la perte de poids, l&#39;endurance, etc.<br><br>Détendez-vous, corps, esprit et âme. Découvrez des outils de méditation en Pleine consc pour relâcher le stress de la journée.<br><br>(Certains contenus ne sont disponibles que sur abonnement payant en option. Contenu disponible en anglais, allemand, coréen, espagnol, français et portugais.)<br><br>Santé des femmes offre une assistance utile dans le suivi du cycle menstruel et la gestion des symtômes associés, ainsi que des informations et du contenu personnalisés grâce à notre partenaire, Glow. Les accessoires portables Galaxy et d&#39;autres marques soutiennent les femmes que nous aimons dans chaque étape de leur vie.<br> <br>Samsung Health protège vos données de santé privées en toute sécurité. Le service Samsung Health compatible avec Knox sera disponible sur tous les modèles Samsung Galaxy ultérieurs au mois d&#39;août 2016. Notez que le service Samsung Health compatible avec Knox ne sera pas disponible sur les appareils mobiles rootés. <br><br>Samsung Health requiert Android 8.0 (Oreo) ou une version ultérieure. <br><br>Les tablettes et certains appareils mobiles ne sont pas pris en charge, et les fonctions détaillées varient selon le pays et la région de résidence de l’utilisateur, son prestataire de réseau, le modèle de son appareil, etc.<br><br>Samsung Health est disponible dans plus de 70 langues, y compris l&#39;anglais, le français et le chinois. Pour les langues non disponibles, la version anglaise de l&#39;application sera proposée. <br><br>Notez que Samsung Health n&#39;est destiné à être utilisé que pour améliorer votre bien-être et votre forme physique, et n&#39;a pas pour vocation le diagnostic de maladies ou affections, ni de soigner, contrôler, traiter ou prévenir des maladies.', 'summary': 'Appl. complémentaire style vie pour suivi forme, poids, régime, alim. et sommeil', 'installs': '1\\u202f000\\u202f000\\u202f000+', 'minInstalls': 1000000000, 'realInstalls': 1701120064, 'score': 3.7706766, 'ratings': 1426422, 'reviews': 13206, 'histogram': [244753, 87691, 129444, 252397, 712058], 'price': 0, 'free': True, 'currency': 'EUR', 'sale': False, 'saleTime': None, 'originalPrice': None, 'saleText': None, 'offersIAP': False, 'inAppProductPrice': None, 'developer': 'Samsung Electronics Co.,  Ltd.', 'developerId': '5200379633052405703', 'developerEmail': 'noreply.sec@samsung.com', 'developerWebsite': 'https://www.samsung.com/global/galaxy/apps/samsung-health/', 'developerAddress': '129, Samsung-ro, Yeongtong-gu, Suwon-si, Gyeonggi-do, 16677, Rep. of KOREA', 'privacyPolicy': 'https://www.samsunghealth.com/privacy/', 'genre': 'Santé et remise en forme', 'genreId': 'HEALTH_AND_FITNESS', 'icon': 'https://play-lh.googleusercontent.com/EoiTA0z1LdQHV2huvNc2NxXVquqAlOrwweONKMYjTYNYPK2KMQMOBR253NC6WsFm-dZl', 'headerImage': 'https://play-lh.googleusercontent.com/bZmtDriyLZgabJyQdJVSqu1mF7xlIWtVv1u-iyYPKbbMQzudo0W2LmhsrR6AIEiRYw', 'screenshots': ['https://play-lh.googleusercontent.com/CGAseuKRCaKAErVx24bd8rc6ZCZXd5XgIByNx0YU3d_GErrcw19ZBmIhIZGSCBddCw', 'https://play-lh.googleusercontent.com/lV67TwEFoO2NaC1tD9bMrSb7U1po-QppgTOXqzf0H7iMkN1zt9qy3F3ZbqbfIp7DYA', 'https://play-lh.googleusercontent.com/KT6PccXtmyOgd2AyY6ntZDHrmBOl4Rbveg_B6jbzbu_W8fP1B_e0W7SkIkynGralG2E', 'https://play-lh.googleusercontent.com/1Ac73_x_s_HhQo6dNx3HwsO33oH5wfqpScINGrFOPWMEXjjtJQeb5J0c-Yhx11RCE7g', 'https://play-lh.googleusercontent.com/SMGkFbQYOsufhVs6iQ6xrr6fh_ssL8_hmyKXZi4x5XIc9YE5cb57Wvvoy6clDfDulsU', 'https://play-lh.googleusercontent.com/_jYQA0iaDDTLIXR9hoFTs2CATB7Dl5gLzB78r7L6F27jN-N9kQn-dDieXgVNdWbu7rw'], 'video': None, 'videoImage': None, 'contentRating': 'PEGI\\xa03', 'contentRatingDescription': None, 'adSupported': False, 'containsAds': False, 'released': '7 avr. 2015', 'updated': 1677478037, 'version': '6.23.3.003', 'recentChanges': None, 'recentChangesHTML': None, 'comments': [], 'appId': 'com.sec.android.app.shealth', 'url': 'https://play.google.com/store/apps/details?id=com.sec.android.app.shealth&hl=fr&gl=fr'}\n",
      "<class 'dict'>\n",
      "45\n"
     ]
    }
   ],
   "source": [
    "print(result)\n",
    "print(type(result))\n",
    "print(len(result))"
   ]
  },
  {
   "cell_type": "code",
   "execution_count": 31,
   "metadata": {},
   "outputs": [
    {
     "data": {
      "text/plain": [
       "\"Commencez à prendre des habitudes saines grâce à Samsung Health.\\r\\n\\r\\nSamsung Health dispose de plusieurs fonctions pour vous aider à gérer votre santé. Comme l’application vous permet d’enregistrer automatiquement de nombreuses activités, il est plus facile que jamais de mettre en place un style de vie plus sain.\\r\\n\\r\\nConsultez vos différents enregistrements de santé sur l’écran d’accueil de Samsung Health. Ajoutez et modifiez facilement les éléments que vous souhaitez gérer, comme votre nombre de pas quotidiens, votre temps d’activité et votre poids corporel, simplement en appuyant longtemps sur l’écran.\\r\\n\\r\\nGardez toujours la forme avec Samsung Health. Définissez des objectifs et suivez quotidiennement votre niveau d'activité, l'intensité des entraînements, la qualité du sommeil, et la consommation d'eau et de calories. Avec Galaxy Watch, Life Fitness, Technogym et Corehealth, optimisez vos entraînements.\\r\\n\\r\\nDéveloppez des habitudes alimentaires saines grâce à Samsung Health qui vous permet d’enregistrer vos repas et encas quotidiens.\\r\\n\\r\\nEntraînez-vous dur et restez toujours au meilleur de votre forme grâce à Samsung Health. Fixez des objectifs correspondant à votre propre niveau et suivez votre progression quotidienne incluant, entre autres, votre niveau d’activité, l’intensité de vos entraînements, votre qualité de sommeil, votre rythme cardiaque, votre niveau de stress, votre taux d’oxygénation sanguine. \\r\\n\\r\\nSurveillez vos habitudes de sommeil de manière plus détaillée grâce à votre Galaxy Watch. Rendez vos matinées plus toniques en améliorant la qualité de votre sommeil grâce aux niveaux de sommeil et aux notes attribuées au sommeil.\\r\\n\\r\\nAvoir une bonne condition physique est une question de motivation. Défiez vos amis et votre famille pour améliorer votre santé de manière plus ludique et interactive grâce au service Partage de Samsung Health.\\r\\n\\r\\nMarre de la routine ? Samsung Health a préparé des vidéos dans lesquelles des entraîneurs professionnels vont vous apprendre de nouveaux programmes de fitness axés sur les étirements, la perte de poids, l'endurance, etc.\\r\\n\\r\\nDétendez-vous, corps, esprit et âme. Découvrez des outils de méditation en Pleine consc pour relâcher le stress de la journée.\\r\\n\\r\\n(Certains contenus ne sont disponibles que sur abonnement payant en option. Contenu disponible en anglais, allemand, coréen, espagnol, français et portugais.)\\r\\n\\r\\nSanté des femmes offre une assistance utile dans le suivi du cycle menstruel et la gestion des symtômes associés, ainsi que des informations et du contenu personnalisés grâce à notre partenaire, Glow. Les accessoires portables Galaxy et d'autres marques soutiennent les femmes que nous aimons dans chaque étape de leur vie.\\r\\n \\r\\nSamsung Health protège vos données de santé privées en toute sécurité. Le service Samsung Health compatible avec Knox sera disponible sur tous les modèles Samsung Galaxy ultérieurs au mois d'août 2016. Notez que le service Samsung Health compatible avec Knox ne sera pas disponible sur les appareils mobiles rootés. \\r\\n\\r\\nSamsung Health requiert Android 8.0 (Oreo) ou une version ultérieure. \\r\\n\\r\\nLes tablettes et certains appareils mobiles ne sont pas pris en charge, et les fonctions détaillées varient selon le pays et la région de résidence de l’utilisateur, son prestataire de réseau, le modèle de son appareil, etc.\\r\\n\\r\\nSamsung Health est disponible dans plus de 70 langues, y compris l'anglais, le français et le chinois. Pour les langues non disponibles, la version anglaise de l'application sera proposée. \\r\\n\\r\\nNotez que Samsung Health n'est destiné à être utilisé que pour améliorer votre bien-être et votre forme physique, et n'a pas pour vocation le diagnostic de maladies ou affections, ni de soigner, contrôler, traiter ou prévenir des maladies.\""
      ]
     },
     "execution_count": 31,
     "metadata": {},
     "output_type": "execute_result"
    }
   ],
   "source": [
    "result[\"description\"]"
   ]
  },
  {
   "cell_type": "code",
   "execution_count": 33,
   "metadata": {},
   "outputs": [
    {
     "data": {
      "text/html": [
       "<div>\n",
       "<style scoped>\n",
       "    .dataframe tbody tr th:only-of-type {\n",
       "        vertical-align: middle;\n",
       "    }\n",
       "\n",
       "    .dataframe tbody tr th {\n",
       "        vertical-align: top;\n",
       "    }\n",
       "\n",
       "    .dataframe thead th {\n",
       "        text-align: right;\n",
       "    }\n",
       "</style>\n",
       "<table border=\"1\" class=\"dataframe\">\n",
       "  <thead>\n",
       "    <tr style=\"text-align: right;\">\n",
       "      <th></th>\n",
       "      <th>description</th>\n",
       "    </tr>\n",
       "  </thead>\n",
       "  <tbody>\n",
       "    <tr>\n",
       "      <th>0</th>\n",
       "      <td>Commencez à prendre des habitudes saines grâce...</td>\n",
       "    </tr>\n",
       "    <tr>\n",
       "      <th>1</th>\n",
       "      <td>Optez pour une vie plus saine et plus active a...</td>\n",
       "    </tr>\n",
       "    <tr>\n",
       "      <th>2</th>\n",
       "      <td>Avec Santé Connect par Android, partagez facil...</td>\n",
       "    </tr>\n",
       "    <tr>\n",
       "      <th>3</th>\n",
       "      <td>Que vous cherchiez à être plus actif, à perdre...</td>\n",
       "    </tr>\n",
       "    <tr>\n",
       "      <th>4</th>\n",
       "      <td>Le tracker de pas le plus &lt;b&gt;simple et précis&lt;...</td>\n",
       "    </tr>\n",
       "  </tbody>\n",
       "</table>\n",
       "</div>"
      ],
      "text/plain": [
       "                                         description\n",
       "0  Commencez à prendre des habitudes saines grâce...\n",
       "1  Optez pour une vie plus saine et plus active a...\n",
       "2  Avec Santé Connect par Android, partagez facil...\n",
       "3  Que vous cherchiez à être plus actif, à perdre...\n",
       "4  Le tracker de pas le plus <b>simple et précis<..."
      ]
     },
     "execution_count": 33,
     "metadata": {},
     "output_type": "execute_result"
    }
   ],
   "source": [
    "data = {'description':[]}\n",
    "\n",
    "for i in id:\n",
    "    result = app(\n",
    "        i,\n",
    "        lang='fr', # defaults to 'en'\n",
    "        country='fr' # defaults to 'us'\n",
    "    )\n",
    "    data[\"description\"].append(result[\"description\"])\n",
    "\n",
    "df = pd.DataFrame(data)\n",
    "df.head()"
   ]
  },
  {
   "cell_type": "code",
   "execution_count": null,
   "metadata": {},
   "outputs": [],
   "source": [
    "df.to_csv(\"GooglePlayDesc.csv\", index = False, header = True, encoding='utf-8')\n"
   ]
  }
 ],
 "metadata": {
  "kernelspec": {
   "display_name": "Python 3",
   "language": "python",
   "name": "python3"
  },
  "language_info": {
   "codemirror_mode": {
    "name": "ipython",
    "version": 3
   },
   "file_extension": ".py",
   "mimetype": "text/x-python",
   "name": "python",
   "nbconvert_exporter": "python",
   "pygments_lexer": "ipython3",
   "version": "3.11.0"
  },
  "orig_nbformat": 4,
  "vscode": {
   "interpreter": {
    "hash": "2a805c939253dd78ab80805c33908398d8b908c1d768f626811873916a950a6f"
   }
  }
 },
 "nbformat": 4,
 "nbformat_minor": 2
}
