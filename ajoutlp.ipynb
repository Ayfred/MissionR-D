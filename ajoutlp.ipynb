{
 "cells": [
  {
   "cell_type": "code",
   "execution_count": null,
   "metadata": {},
   "outputs": [],
   "source": [
    "#remove url\n",
    "import re\n",
    "text =(\" dedjej ideiz dezd https://stackoverflow.com/questions/26541968/delete-every-non-utf-8-symbols-from-string\")\n",
    "\n",
    "text = re.sub('http[s]?://\\S+', '', text)\n",
    "print(text)"
   ]
  },
  {
   "cell_type": "code",
   "execution_count": null,
   "metadata": {},
   "outputs": [],
   "source": [
    "#remove symbols\n",
    "ex = \"HEllo !!! I'm a test for this example. Does it work ? lets add difficulty : @ é ou & \\\"&&\\\" 🙂\"\n",
    "test = re.sub(r'[^\\w]', ' ', ex)\n",
    "print(test)"
   ]
  },
  {
   "cell_type": "code",
   "execution_count": null,
   "metadata": {},
   "outputs": [],
   "source": [
    "import spacy\n",
    "\n",
    "#create the stop words list\n",
    "\n",
    "nlp = spacy.load(\"fr_core_news_sm\")\n",
    "\n",
    "ssw = nlp.Defaults.stop_words\n",
    "lsw = [str(x) for x in ssw]\n",
    "print (lsw)"
   ]
  },
  {
   "cell_type": "code",
   "execution_count": null,
   "metadata": {},
   "outputs": [],
   "source": [
    "example = \"Ceci est un court texte faisant prealable avant qu'un different soit relativement tiens, cinq antérieures derrière cent personnes venues de contrées nouvelles que tu verras nombreux\"\n",
    "\n",
    "def removeStopWords(lsw, text):\n",
    "    lastSapce = 0\n",
    "    splitext = text.split(\" \")\n",
    "    for word in splitext:\n",
    "        if word in lsw:\n",
    "            splitext.remove(word)\n",
    "    return ' '.join(splitext)\n",
    "\n",
    "test = removeStopWords(lsw, example)\n",
    "print(test)"
   ]
  }
 ],
 "metadata": {
  "language_info": {
   "name": "python"
  },
  "orig_nbformat": 4
 },
 "nbformat": 4,
 "nbformat_minor": 2
}
