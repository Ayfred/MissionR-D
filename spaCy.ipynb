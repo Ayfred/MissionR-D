{
 "cells": [
  {
   "attachments": {},
   "cell_type": "markdown",
   "metadata": {},
   "source": [
    "Téléchargement des packages Python/spaCy"
   ]
  },
  {
   "cell_type": "code",
   "execution_count": null,
   "metadata": {},
   "outputs": [],
   "source": [
    "!python -m spacy download fr_core_news_sm"
   ]
  },
  {
   "attachments": {},
   "cell_type": "markdown",
   "metadata": {},
   "source": [
    "Imports"
   ]
  },
  {
   "cell_type": "code",
   "execution_count": 1,
   "metadata": {},
   "outputs": [],
   "source": [
    "import spacy\n",
    "from spacy.matcher import Matcher\n",
    "from spacy.lang.fr.examples import sentences "
   ]
  },
  {
   "cell_type": "markdown",
   "metadata": {},
   "source": [
    "Exemple de textes"
   ]
  },
  {
   "cell_type": "code",
   "execution_count": 11,
   "metadata": {},
   "outputs": [
    {
     "name": "stdout",
     "output_type": "stream",
     "text": [
      "Selon Wikipédia il l'appelle Laura, La ponctuation est génial l’ensemble des signes qui, dans l’écrit, marquent les divisions et les liaisons des phrases et des membres 'de phrase' . Vous pouvez en apprendre plus sur \"la ponctuation\" en visitant ce site: https://www.larousse.fr/dictionnaires/francais/ponctuation/63717 parce que ce lien donne beaucoup d'informations intéressantes. 😊\n"
     ]
    }
   ],
   "source": [
    "text = \"Selon Wikipédia il l'appelle laura, La ponctuation est génial l’ensemble des signes qui, dans l’écrit, marquent les divisions et les liaisons des phrases et des membres 'de phrase' . Vous pouvez en apprendre plus sur \\\"la ponctuation\\\" en visitant ce site: https://www.larousse.fr/dictionnaires/francais/ponctuation/63717 parce que ce lien donne beaucoup d'informations intéressantes. 😊\"\n",
    "print(text)"
   ]
  },
  {
   "cell_type": "code",
   "execution_count": 12,
   "metadata": {},
   "outputs": [],
   "source": [
    "nlp = spacy.load(\"fr_core_news_sm\")\n",
    "matcher = Matcher(nlp.vocab)"
   ]
  },
  {
   "cell_type": "code",
   "execution_count": 13,
   "metadata": {},
   "outputs": [],
   "source": [
    "doc = nlp(text)"
   ]
  },
  {
   "cell_type": "code",
   "execution_count": 14,
   "metadata": {},
   "outputs": [
    {
     "name": "stdout",
     "output_type": "stream",
     "text": [
      "Selon ADP\n",
      "Wikipédia PROPN\n",
      "il PRON\n",
      "l' PRON\n",
      "appelle VERB\n",
      "Laura PROPN\n",
      ", PUNCT\n",
      "La DET\n",
      "ponctuation NOUN\n",
      "est AUX\n",
      "génial ADJ\n",
      "l’ ADJ\n",
      "ensemble VERB\n",
      "des ADP\n",
      "signes NOUN\n",
      "qui PRON\n",
      ", PUNCT\n",
      "dans ADP\n",
      "l’ NOUN\n",
      "écrit VERB\n",
      ", PUNCT\n",
      "marquent VERB\n",
      "les DET\n",
      "divisions NOUN\n",
      "et CCONJ\n",
      "les DET\n",
      "liaisons NOUN\n",
      "des ADP\n",
      "phrases NOUN\n",
      "et CCONJ\n",
      "des ADP\n",
      "membres NOUN\n",
      "' PUNCT\n",
      "de ADP\n",
      "phrase NOUN\n",
      "' PUNCT\n",
      ". PUNCT\n",
      "Vous PRON\n",
      "pouvez VERB\n",
      "en ADP\n",
      "apprendre VERB\n",
      "plus ADV\n",
      "sur ADP\n",
      "\" PUNCT\n",
      "la DET\n",
      "ponctuation NOUN\n",
      "\" PUNCT\n",
      "en ADP\n",
      "visitant VERB\n",
      "ce DET\n",
      "site NOUN\n",
      ": PUNCT\n",
      "https://www.larousse.fr/dictionnaires/francais/ponctuation/63717 NOUN\n",
      "parce SCONJ\n",
      "que SCONJ\n",
      "ce DET\n",
      "lien NOUN\n",
      "donne VERB\n",
      "beaucoup ADV\n",
      "d' ADP\n",
      "informations NOUN\n",
      "intéressantes ADJ\n",
      ". PUNCT\n",
      "😊 ADV\n"
     ]
    }
   ],
   "source": [
    "# Iterate over the tokens\n",
    "for token in doc:\n",
    "    # Print the text and the predicted part-of-speech tag\n",
    "    print(token.text, token.pos_)\n"
   ]
  },
  {
   "cell_type": "code",
   "execution_count": 16,
   "metadata": {},
   "outputs": [
    {
     "name": "stdout",
     "output_type": "stream",
     "text": [
      "Selon ADP case Wikipédia\n",
      "Wikipédia PROPN obl:mod appelle\n",
      "il PRON expl:subj appelle\n",
      "l' PRON obj appelle\n",
      "appelle VERB ROOT appelle\n",
      "Laura PROPN flat:name appelle\n",
      ", PUNCT punct appelle\n",
      "La DET det ponctuation\n",
      "ponctuation NOUN nsubj génial\n",
      "est AUX cop génial\n",
      "génial ADJ advcl appelle\n",
      "l’ ADJ amod appelle\n",
      "ensemble VERB amod appelle\n",
      "des ADP case signes\n",
      "signes NOUN obj appelle\n",
      "qui PRON nsubj écrit\n",
      ", PUNCT punct écrit\n",
      "dans ADP case l’\n",
      "l’ NOUN obl:mod écrit\n",
      "écrit VERB acl:relcl signes\n",
      ", PUNCT punct appelle\n",
      "marquent VERB parataxis appelle\n",
      "les DET det divisions\n",
      "divisions NOUN nsubj marquent\n",
      "et CCONJ cc liaisons\n",
      "les DET det liaisons\n",
      "liaisons NOUN conj divisions\n",
      "des ADP case phrases\n",
      "phrases NOUN nmod liaisons\n",
      "et CCONJ cc membres\n",
      "des ADP case membres\n",
      "membres NOUN conj phrases\n",
      "' PUNCT punct membres\n",
      "de ADP case phrase\n",
      "phrase NOUN nmod membres\n",
      "' PUNCT punct appelle\n",
      ". PUNCT punct appelle\n",
      "Vous PRON nsubj pouvez\n",
      "pouvez VERB ROOT pouvez\n",
      "en ADP mark apprendre\n",
      "apprendre VERB xcomp pouvez\n",
      "plus ADV advmod apprendre\n",
      "sur ADP case ponctuation\n",
      "\" PUNCT punct ponctuation\n",
      "la DET det ponctuation\n",
      "ponctuation NOUN obl:arg apprendre\n",
      "\" PUNCT punct ponctuation\n",
      "en ADP case site\n",
      "visitant VERB fixed en\n",
      "ce DET det site\n",
      "site NOUN nmod ponctuation\n",
      ": PUNCT punct pouvez\n",
      "https://www.larousse.fr/dictionnaires/francais/ponctuation/63717 NOUN nsubj donne\n",
      "parce SCONJ mark donne\n",
      "que SCONJ fixed parce\n",
      "ce DET det lien\n",
      "lien NOUN nsubj donne\n",
      "donne VERB ccomp pouvez\n",
      "beaucoup ADV obj donne\n",
      "d' ADP case informations\n",
      "informations NOUN obl:arg beaucoup\n",
      "intéressantes ADJ amod informations\n",
      ". PUNCT punct pouvez\n",
      "😊 ADV ROOT 😊\n"
     ]
    }
   ],
   "source": [
    "for token in doc:\n",
    "    print(token.text, token.pos_, token.dep_, token.head.text)\n",
    "    # Get the token text, part-of-speech tag and dependency label\n",
    "    token_text = token.text\n",
    "    token_pos = token.pos_\n",
    "    token_dep = token.dep_\n",
    "    # This is for formatting only\n",
    "    #print(f\"{token_text:<12}{token_pos:<10}{token_dep:<10}\")"
   ]
  },
  {
   "attachments": {},
   "cell_type": "markdown",
   "metadata": {},
   "source": [
    "Quotes detector"
   ]
  },
  {
   "cell_type": "code",
   "execution_count": 17,
   "metadata": {},
   "outputs": [
    {
     "name": "stdout",
     "output_type": "stream",
     "text": [
      "[]\n",
      "Selon Wikipédia il l' appelle Laura , La ponctuation est génial l’ ensemble des signes qui , dans l’ écrit , marquent les divisions et les liaisons des phrases et des membres ' de phrase ' . Vous pouvez en apprendre plus sur \" la ponctuation \" en visitant ce site : https://www.larousse.fr/dictionnaires/francais/ponctuation/63717 parce que ce lien donne beaucoup d' informations intéressantes . 😊\n"
     ]
    }
   ],
   "source": [
    "quotes = [ent.text for ent in doc.ents if ent.label_ == \"law\"]\n",
    "print(quotes)\n",
    "\n",
    "filtered_text = ' '.join([token.text for token in doc if token.ent_type_ != 'QUOTED'])\n",
    "\n",
    "print(filtered_text)"
   ]
  },
  {
   "cell_type": "code",
   "execution_count": 18,
   "metadata": {},
   "outputs": [
    {
     "name": "stdout",
     "output_type": "stream",
     "text": [
      "Selon Wikipédia il l' appelle Laura , La ponctuation est génial l’ ensemble des signes qui , dans l’ écrit , marquent les divisions et les liaisons des phrases et des membres . Vous pouvez en apprendre plus sur en visitant ce site : https://www.larousse.fr/dictionnaires/francais/ponctuation/63717 parce que ce lien donne beaucoup d' informations intéressantes . 😊 \n"
     ]
    }
   ],
   "source": [
    "filtered_text_1 = \"\"\n",
    "Punc_list = ['\"', \"'\"]\n",
    "boolean_punct = False\n",
    "\n",
    "for token in doc:\n",
    "    if not token.text in Punc_list:\n",
    "        if not boolean_punct:\n",
    "            filtered_text_1 += token.text\n",
    "            filtered_text_1 += \" \"\n",
    "    else :\n",
    "        if boolean_punct :\n",
    "            boolean_punct = False\n",
    "        else :\n",
    "            boolean_punct = True\n",
    "\n",
    "print(filtered_text_1)"
   ]
  },
  {
   "cell_type": "code",
   "execution_count": 80,
   "metadata": {},
   "outputs": [
    {
     "name": "stdout",
     "output_type": "stream",
     "text": [
      "Shesaid', \n"
     ]
    }
   ],
   "source": [
    "import re\n",
    "\n",
    "sentence = \"She's 'said', \\\"I love Python programming.\\\"\"\n",
    "\n",
    "\n",
    "def remove_quoted_text(sentence):\n",
    "    pattern = r\"(['\\\"])(?:\\\\\\1|.)*?\\1\"\n",
    "    return re.sub(pattern, '', sentence)\n",
    "\n",
    "remove_quoted_text(sentence)\n",
    "\n",
    "\n",
    "print(remove_quoted_text(sentence))"
   ]
  },
  {
   "attachments": {},
   "cell_type": "markdown",
   "metadata": {},
   "source": [
    "Filter contact information"
   ]
  },
  {
   "cell_type": "code",
   "execution_count": 19,
   "metadata": {},
   "outputs": [
    {
     "name": "stdout",
     "output_type": "stream",
     "text": [
      "Selon Wikipédia il l' appelle Laura , La ponctuation est génial l’ ensemble des signes qui , dans l’ écrit , marquent les divisions et les liaisons des phrases et des membres . Vous pouvez en apprendre plus sur en visitant ce site : https://www.larousse.fr/dictionnaires/francais/ponctuation/63717 parce que ce lien donne beaucoup d' informations intéressantes . 😊 \n"
     ]
    }
   ],
   "source": [
    "import re\n",
    "\n",
    "# Sample sentence\n",
    "sentence = filtered_text_1\n",
    "\n",
    "# Regular expressions for phone numbers and email addresses\n",
    "phone_regex = r\"(?<!\\d)(?:\\d[ -/\\\\_\\d]*){10}(?!\\d)\"\n",
    "email_regex = r\"[a-zA-Z0-9._%+-]+@[a-zA-Z0-9.-]+\\.[a-zA-Z]{2,}\"  # matches john.doe@example.com\n",
    "\n",
    "# Find phone numbers and email addresses in the sentence\n",
    "sentence = re.sub(phone_regex,\"\", sentence)\n",
    "sentence = re.sub(email_regex,\"\", sentence)\n",
    "\n",
    "# Print the results\n",
    "print(sentence)"
   ]
  },
  {
   "attachments": {},
   "cell_type": "markdown",
   "metadata": {},
   "source": [
    "Apply POS tagging"
   ]
  },
  {
   "cell_type": "code",
   "execution_count": 20,
   "metadata": {},
   "outputs": [],
   "source": [
    "doc = nlp(text)"
   ]
  },
  {
   "cell_type": "code",
   "execution_count": 21,
   "metadata": {},
   "outputs": [
    {
     "name": "stdout",
     "output_type": "stream",
     "text": [
      "Selon ADP\n",
      "Wikipédia PROPN\n",
      "il PRON\n",
      "l' PRON\n",
      "appelle VERB\n",
      "Laura PROPN\n",
      ", PUNCT\n",
      "La DET\n",
      "ponctuation NOUN\n",
      "est AUX\n",
      "génial ADJ\n",
      "l’ ADJ\n",
      "ensemble VERB\n",
      "des ADP\n",
      "signes NOUN\n",
      "qui PRON\n",
      ", PUNCT\n",
      "dans ADP\n",
      "l’ NOUN\n",
      "écrit VERB\n",
      ", PUNCT\n",
      "marquent VERB\n",
      "les DET\n",
      "divisions NOUN\n",
      "et CCONJ\n",
      "les DET\n",
      "liaisons NOUN\n",
      "des ADP\n",
      "phrases NOUN\n",
      "et CCONJ\n",
      "des ADP\n",
      "membres NOUN\n",
      "' PUNCT\n",
      "de ADP\n",
      "phrase NOUN\n",
      "' PUNCT\n",
      ". PUNCT\n",
      "Vous PRON\n",
      "pouvez VERB\n",
      "en ADP\n",
      "apprendre VERB\n",
      "plus ADV\n",
      "sur ADP\n",
      "\" PUNCT\n",
      "la DET\n",
      "ponctuation NOUN\n",
      "\" PUNCT\n",
      "en ADP\n",
      "visitant VERB\n",
      "ce DET\n",
      "site NOUN\n",
      ": PUNCT\n",
      "https://www.larousse.fr/dictionnaires/francais/ponctuation/63717 NOUN\n",
      "parce SCONJ\n",
      "que SCONJ\n",
      "ce DET\n",
      "lien NOUN\n",
      "donne VERB\n",
      "beaucoup ADV\n",
      "d' ADP\n",
      "informations NOUN\n",
      "intéressantes ADJ\n",
      ". PUNCT\n",
      "😊 ADV\n"
     ]
    }
   ],
   "source": [
    "# Iterate over the tokens\n",
    "for token in doc:\n",
    "    # Print the text and the predicted part-of-speech tag\n",
    "    print(token.text, token.pos_)\n"
   ]
  },
  {
   "cell_type": "code",
   "execution_count": 22,
   "metadata": {},
   "outputs": [],
   "source": [
    "matcher = Matcher(nlp.vocab)"
   ]
  }
 ],
 "metadata": {
  "kernelspec": {
   "display_name": "Python 3",
   "language": "python",
   "name": "python3"
  },
  "language_info": {
   "codemirror_mode": {
    "name": "ipython",
    "version": 3
   },
   "file_extension": ".py",
   "mimetype": "text/x-python",
   "name": "python",
   "nbconvert_exporter": "python",
   "pygments_lexer": "ipython3",
   "version": "3.11.0"
  },
  "orig_nbformat": 4
 },
 "nbformat": 4,
 "nbformat_minor": 2
}
