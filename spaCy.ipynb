{
 "cells": [
  {
   "attachments": {},
   "cell_type": "markdown",
   "metadata": {},
   "source": [
    "Téléchargement des packages Python/spaCy"
   ]
  },
  {
   "cell_type": "code",
   "execution_count": null,
   "metadata": {},
   "outputs": [],
   "source": [
    "!python -m spacy download fr_core_news_sm"
   ]
  },
  {
   "attachments": {},
   "cell_type": "markdown",
   "metadata": {},
   "source": [
    "Imports"
   ]
  },
  {
   "cell_type": "code",
   "execution_count": 2,
   "metadata": {},
   "outputs": [],
   "source": [
    "import spacy\n",
    "from spacy.matcher import Matcher\n",
    "from spacy.lang.fr.examples import sentences "
   ]
  },
  {
   "cell_type": "markdown",
   "metadata": {},
   "source": [
    "Exemple de textes"
   ]
  },
  {
   "cell_type": "code",
   "execution_count": 3,
   "metadata": {},
   "outputs": [
    {
     "name": "stdout",
     "output_type": "stream",
     "text": [
      "Selon Wikipédia il l'appelle Max, La ponctuation est génial l’ensemble des signes qui, dans l’écrit, marquent les divisions et les liaisons des phrases et des membres 'de phrase' . Vous pouvez en apprendre plus sur \"la ponctuation\" en visitant ce site: https://www.larousse.fr/dictionnaires/francais/ponctuation/63717 parce que ce lien donne beaucoup d'informations intéressantes. 😊\n"
     ]
    }
   ],
   "source": [
    "text = \"Selon Wikipédia il l'appelle Max, La ponctuation est génial l’ensemble des signes qui, dans l’écrit, marquent les divisions et les liaisons des phrases et des membres 'de phrase' . Vous pouvez en apprendre plus sur \\\"la ponctuation\\\" en visitant ce site: https://www.larousse.fr/dictionnaires/francais/ponctuation/63717 parce que ce lien donne beaucoup d'informations intéressantes. 😊\"\n",
    "print(text)"
   ]
  },
  {
   "cell_type": "code",
   "execution_count": 4,
   "metadata": {},
   "outputs": [],
   "source": [
    "nlp = spacy.load(\"fr_core_news_sm\")\n",
    "matcher = Matcher(nlp.vocab)"
   ]
  },
  {
   "cell_type": "code",
   "execution_count": 5,
   "metadata": {},
   "outputs": [],
   "source": [
    "doc = nlp(text)"
   ]
  },
  {
   "cell_type": "code",
   "execution_count": 6,
   "metadata": {},
   "outputs": [
    {
     "name": "stdout",
     "output_type": "stream",
     "text": [
      "Selon ADP\n",
      "Wikipédia PROPN\n",
      "il PRON\n",
      "l' PRON\n",
      "appelle VERB\n",
      "Max PROPN\n",
      ", PUNCT\n",
      "La DET\n",
      "ponctuation NOUN\n",
      "est AUX\n",
      "génial ADJ\n",
      "l’ ADJ\n",
      "ensemble VERB\n",
      "des ADP\n",
      "signes NOUN\n",
      "qui PRON\n",
      ", PUNCT\n",
      "dans ADP\n",
      "l’ NOUN\n",
      "écrit VERB\n",
      ", PUNCT\n",
      "marquent VERB\n",
      "les DET\n",
      "divisions NOUN\n",
      "et CCONJ\n",
      "les DET\n",
      "liaisons NOUN\n",
      "des ADP\n",
      "phrases NOUN\n",
      "et CCONJ\n",
      "des ADP\n",
      "membres NOUN\n",
      "' PUNCT\n",
      "de ADP\n",
      "phrase NOUN\n",
      "' PUNCT\n",
      ". PUNCT\n",
      "Vous PRON\n",
      "pouvez VERB\n",
      "en ADP\n",
      "apprendre VERB\n",
      "plus ADV\n",
      "sur ADP\n",
      "\" PUNCT\n",
      "la DET\n",
      "ponctuation NOUN\n",
      "\" PUNCT\n",
      "en ADP\n",
      "visitant VERB\n",
      "ce DET\n",
      "site NOUN\n",
      ": PUNCT\n",
      "https://www.larousse.fr/dictionnaires/francais/ponctuation/63717 NOUN\n",
      "parce SCONJ\n",
      "que SCONJ\n",
      "ce DET\n",
      "lien NOUN\n",
      "donne VERB\n",
      "beaucoup ADV\n",
      "d' ADP\n",
      "informations NOUN\n",
      "intéressantes ADJ\n",
      ". PUNCT\n",
      "😊 ADV\n"
     ]
    }
   ],
   "source": [
    "# Iterate over the tokens\n",
    "for token in doc:\n",
    "    # Print the text and the predicted part-of-speech tag\n",
    "    print(token.text, token.pos_)\n"
   ]
  },
  {
   "cell_type": "code",
   "execution_count": 26,
   "metadata": {},
   "outputs": [
    {
     "name": "stdout",
     "output_type": "stream",
     "text": [
      "Selon ADP case Wikipédia\n",
      "Selon       ADP       case      \n",
      "Wikipédia PROPN obl:mod génial\n",
      "Wikipédia   PROPN     obl:mod   \n",
      ", PUNCT punct Wikipédia\n",
      ",           PUNCT     punct     \n",
      "La DET det ponctuation\n",
      "La          DET       det       \n",
      "ponctuation NOUN nsubj génial\n",
      "ponctuation NOUN      nsubj     \n",
      "est AUX cop génial\n",
      "est         AUX       cop       \n",
      "génial ADJ ROOT génial\n",
      "génial      ADJ       ROOT      \n",
      "l’ ADJ advmod ensemble\n",
      "l’          ADJ       advmod    \n",
      "ensemble VERB ROOT ensemble\n",
      "ensemble    VERB      ROOT      \n",
      "des ADP case signes\n",
      "des         ADP       case      \n",
      "signes NOUN dep ensemble\n",
      "signes      NOUN      dep       \n",
      "qui PRON nsubj écrit\n",
      "qui         PRON      nsubj     \n",
      ", PUNCT punct écrit\n",
      ",           PUNCT     punct     \n",
      "dans ADP case l’\n",
      "dans        ADP       case      \n",
      "l’ NOUN obl:mod écrit\n",
      "l’          NOUN      obl:mod   \n",
      "écrit VERB acl:relcl signes\n",
      "écrit       VERB      acl:relcl \n",
      ", PUNCT punct marquent\n",
      ",           PUNCT     punct     \n",
      "marquent VERB ROOT marquent\n",
      "marquent    VERB      ROOT      \n",
      "les DET det divisions\n",
      "les         DET       det       \n",
      "divisions NOUN obj marquent\n",
      "divisions   NOUN      obj       \n",
      "et CCONJ cc liaisons\n",
      "et          CCONJ     cc        \n",
      "les DET det liaisons\n",
      "les         DET       det       \n",
      "liaisons NOUN conj divisions\n",
      "liaisons    NOUN      conj      \n",
      "des ADP case phrases\n",
      "des         ADP       case      \n",
      "phrases NOUN nmod liaisons\n",
      "phrases     NOUN      nmod      \n",
      "et CCONJ cc membres\n",
      "et          CCONJ     cc        \n",
      "des ADP case membres\n",
      "des         ADP       case      \n",
      "membres NOUN conj phrases\n",
      "membres     NOUN      conj      \n",
      "' PUNCT punct liaisons\n",
      "'           PUNCT     punct     \n",
      "de ADP case ’\n",
      "de          ADP       case      \n",
      "phrase DET amod ’\n",
      "phrase      DET       amod      \n",
      "’ NOUN nmod divisions\n",
      "’           NOUN      nmod      \n",
      ". PUNCT punct marquent\n",
      ".           PUNCT     punct     \n",
      "Vous PRON nsubj pouvez\n",
      "Vous        PRON      nsubj     \n",
      "pouvez VERB ROOT pouvez\n",
      "pouvez      VERB      ROOT      \n",
      "en ADP mark apprendre\n",
      "en          ADP       mark      \n",
      "apprendre VERB xcomp pouvez\n",
      "apprendre   VERB      xcomp     \n",
      "plus ADV advmod apprendre\n",
      "plus        ADV       advmod    \n",
      "sur ADP case ponctuation\n",
      "sur         ADP       case      \n",
      "\" PUNCT punct ponctuation\n",
      "\"           PUNCT     punct     \n",
      "la DET det ponctuation\n",
      "la          DET       det       \n",
      "ponctuation NOUN obl:arg apprendre\n",
      "ponctuation NOUN      obl:arg   \n",
      "\" PUNCT punct ponctuation\n",
      "\"           PUNCT     punct     \n",
      "en ADP case site\n",
      "en          ADP       case      \n",
      "visitant VERB fixed en\n",
      "visitant    VERB      fixed     \n",
      "ce DET det site\n",
      "ce          DET       det       \n",
      "site NOUN nmod ponctuation\n",
      "site        NOUN      nmod      \n",
      ": PUNCT punct pouvez\n",
      ":           PUNCT     punct     \n",
      "https://www.larousse.fr/dictionnaires/francais/ponctuation/63717 NOUN nsubj donne\n",
      "https://www.larousse.fr/dictionnaires/francais/ponctuation/63717NOUN      nsubj     \n",
      "parce SCONJ mark donne\n",
      "parce       SCONJ     mark      \n",
      "que SCONJ fixed parce\n",
      "que         SCONJ     fixed     \n",
      "ce DET det lien\n",
      "ce          DET       det       \n",
      "lien NOUN nsubj donne\n",
      "lien        NOUN      nsubj     \n",
      "donne VERB ccomp pouvez\n",
      "donne       VERB      ccomp     \n",
      "beaucoup ADV obj donne\n",
      "beaucoup    ADV       obj       \n",
      "d' ADP case informations\n",
      "d'          ADP       case      \n",
      "informations NOUN obl:arg beaucoup\n",
      "informationsNOUN      obl:arg   \n",
      "intéressantes ADJ amod informations\n",
      "intéressantesADJ       amod      \n",
      ". PUNCT punct pouvez\n",
      ".           PUNCT     punct     \n",
      "😊 ADV ROOT 😊\n",
      "😊           ADV       ROOT      \n"
     ]
    }
   ],
   "source": [
    "for token in doc:\n",
    "    print(token.text, token.pos_, token.dep_, token.head.text)\n",
    "    # Get the token text, part-of-speech tag and dependency label\n",
    "    token_text = token.text\n",
    "    token_pos = token.pos_\n",
    "    token_dep = token.dep_\n",
    "    # This is for formatting only\n",
    "    #print(f\"{token_text:<12}{token_pos:<10}{token_dep:<10}\")"
   ]
  },
  {
   "attachments": {},
   "cell_type": "markdown",
   "metadata": {},
   "source": [
    "Quotes detector"
   ]
  },
  {
   "cell_type": "code",
   "execution_count": 48,
   "metadata": {},
   "outputs": [
    {
     "name": "stdout",
     "output_type": "stream",
     "text": [
      "[]\n",
      "Selon Wikipédia , La ponctuation est génial l’ ensemble des signes qui , dans l’ écrit , marquent les divisions et les liaisons des phrases et des membres ' de phrase ' . Vous pouvez en apprendre plus sur \" la ponctuation \" en visitant ce site : https://www.larousse.fr/dictionnaires/francais/ponctuation/63717 parce que ce lien donne beaucoup d' informations intéressantes . 😊\n"
     ]
    }
   ],
   "source": [
    "quotes = [ent.text for ent in doc.ents if ent.label_ == \"law\"]\n",
    "print(quotes)\n",
    "\n",
    "filtered_text = ' '.join([token.text for token in doc if token.ent_type_ != 'QUOTED'])\n",
    "\n",
    "print(filtered_text)"
   ]
  },
  {
   "cell_type": "code",
   "execution_count": 60,
   "metadata": {},
   "outputs": [
    {
     "name": "stdout",
     "output_type": "stream",
     "text": [
      "Selon Wikipédia , La ponctuation est génial l’ ensemble des signes qui , dans l’ écrit , marquent les divisions et les liaisons des phrases et des membres . Vous pouvez en apprendre plus sur en visitant ce site : https://www.larousse.fr/dictionnaires/francais/ponctuation/63717 parce que ce lien donne beaucoup d' informations intéressantes . 😊 \n"
     ]
    }
   ],
   "source": [
    "filtered_text_1 = \"\"\n",
    "Punc_list = ['\"', \"'\"]\n",
    "boolean_punct = False\n",
    "\n",
    "for token in doc:\n",
    "    if not token.text in Punc_list:\n",
    "        if not boolean_punct:\n",
    "            filtered_text_1 += token.text\n",
    "            filtered_text_1 += \" \"\n",
    "    else :\n",
    "        if boolean_punct :\n",
    "            boolean_punct = False\n",
    "        else :\n",
    "            boolean_punct = True\n",
    "\n",
    "print(filtered_text_1)"
   ]
  },
  {
   "cell_type": "code",
   "execution_count": 80,
   "metadata": {},
   "outputs": [
    {
     "name": "stdout",
     "output_type": "stream",
     "text": [
      "Shesaid', \n"
     ]
    }
   ],
   "source": [
    "import re\n",
    "\n",
    "sentence = \"She's 'said', \\\"I love Python programming.\\\"\"\n",
    "\n",
    "\n",
    "def remove_quoted_text(sentence):\n",
    "    pattern = r\"(['\\\"])(?:\\\\\\1|.)*?\\1\"\n",
    "    return re.sub(pattern, '', sentence)\n",
    "\n",
    "remove_quoted_text(sentence)\n",
    "\n",
    "\n",
    "print(remove_quoted_text(sentence))"
   ]
  },
  {
   "attachments": {},
   "cell_type": "markdown",
   "metadata": {},
   "source": [
    "Filter contact information"
   ]
  },
  {
   "cell_type": "code",
   "execution_count": 113,
   "metadata": {},
   "outputs": [
    {
     "name": "stdout",
     "output_type": "stream",
     "text": [
      "Mon numéro est et Vous pouvez également m'appeler au ou au et my .\n"
     ]
    }
   ],
   "source": [
    "import re\n",
    "\n",
    "# Sample sentence\n",
    "sentence = \"Mon numéro est 06 12 34 56 78 et 0612345678. Vous pouvez également m'appeler au 01-23-45-67-89 ou au 04/56/78/90/12 et my john.doe@example.com.\"\n",
    "\n",
    "# Regular expressions for phone numbers and email addresses\n",
    "phone_regex = r\"(?<!\\d)(?:\\d[ -/\\\\_\\d]*){10}(?!\\d)\"\n",
    "email_regex = r\"[a-zA-Z0-9._%+-]+@[a-zA-Z0-9.-]+\\.[a-zA-Z]{2,}\"  # matches john.doe@example.com\n",
    "\n",
    "# Find phone numbers and email addresses in the sentence\n",
    "sentence = re.sub(phone_regex,\"\", sentence)\n",
    "sentence = re.sub(email_regex,\"\", sentence)\n",
    "\n",
    "# Print the results\n",
    "print(sentence)"
   ]
  },
  {
   "attachments": {},
   "cell_type": "markdown",
   "metadata": {},
   "source": [
    "Filter proper noun"
   ]
  },
  {
   "cell_type": "code",
   "execution_count": null,
   "metadata": {},
   "outputs": [],
   "source": []
  },
  {
   "cell_type": "code",
   "execution_count": 22,
   "metadata": {},
   "outputs": [],
   "source": [
    "matcher = Matcher(nlp.vocab)"
   ]
  }
 ],
 "metadata": {
  "kernelspec": {
   "display_name": "Python 3",
   "language": "python",
   "name": "python3"
  },
  "language_info": {
   "codemirror_mode": {
    "name": "ipython",
    "version": 3
   },
   "file_extension": ".py",
   "mimetype": "text/x-python",
   "name": "python",
   "nbconvert_exporter": "python",
   "pygments_lexer": "ipython3",
   "version": "3.11.0"
  },
  "orig_nbformat": 4
 },
 "nbformat": 4,
 "nbformat_minor": 2
}
