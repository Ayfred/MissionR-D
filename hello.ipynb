{
 "cells": [
  {
   "cell_type": "code",
   "execution_count": 1,
   "metadata": {},
   "outputs": [],
   "source": [
    "import re\n",
    "import spacy\n",
    "\n",
    "nlp = spacy.load(\"fr_core_news_sm\")\n",
    "\n",
    "def remove_text(sentence):\n",
    "    # Créer un objet de document Spacy pour la phrase\n",
    "    doc = nlp(sentence)\n",
    "    # Itérer à travers chaque token dans le document\n",
    "    for token in doc:\n",
    "        # Si le token est \"parce que\", \"car\" ou \"puisque\", supprimer tous les tokens suivants dans la phrase\n",
    "        if token.text.lower() in [\"parce\", \"car\", \"puisque\"]:\n",
    "            sentence = sentence[:token.idx]\n",
    "            break\n",
    "    # Supprimer tout ce qui est entre parenthèses\n",
    "    sentence = re.sub(r'\\([^()]*\\)', '', sentence)\n",
    "    return sentence\n"
   ]
  },
  {
   "cell_type": "code",
   "execution_count": 2,
   "metadata": {},
   "outputs": [
    {
     "name": "stdout",
     "output_type": "stream",
     "text": [
      "il fait beau  \n"
     ]
    }
   ],
   "source": [
    "#text = \"Je vais aller au cinéma cet après-midi (si j'ai le temps), parce que j'ai entendu dire que le nouveau film est excellent.\"\n",
    "text=\"il fait beau (j'avoue) car maxime nous a pas demandé d allumer le chauffage\"\n",
    "new_text = remove_text(text)\n",
    "print(new_text)\n"
   ]
  },
  {
   "cell_type": "code",
   "execution_count": 17,
   "metadata": {},
   "outputs": [
    {
     "name": "stdout",
     "output_type": "stream",
     "text": [
      "président a visité aujourd'hui .\n"
     ]
    }
   ],
   "source": [
    "import spacy\n",
    "\n",
    "nlp = spacy.load(\"fr_core_news_sm\") # Charger le modèle de la langue française\n",
    "\n",
    "def remove_proper_nouns_and_orgs(text):\n",
    "    doc = nlp(text)\n",
    "    result = []\n",
    "    for token in doc:\n",
    "        if not (token.ent_type_ == \"ORG\" or token.ent_type_ == \"PERSON\" or token.text.istitle()):\n",
    "            result.append(token.text)\n",
    "    return \" \".join(result)\n",
    "\n",
    "# Exemple d'utilisation\n",
    "text = \"Le président Emmanuel Macron a visité Google France aujourd'hui.\"\n",
    "processed_text = remove_proper_nouns_and_orgs(text)\n",
    "print(processed_text) # \"le a aujourd'hui\""
   ]
  }
 ],
 "metadata": {
  "kernelspec": {
   "display_name": "Python 3",
   "language": "python",
   "name": "python3"
  },
  "language_info": {
   "codemirror_mode": {
    "name": "ipython",
    "version": 3
   },
   "file_extension": ".py",
   "mimetype": "text/x-python",
   "name": "python",
   "nbconvert_exporter": "python",
   "pygments_lexer": "ipython3",
   "version": "3.10.10"
  },
  "orig_nbformat": 4
 },
 "nbformat": 4,
 "nbformat_minor": 2
}
