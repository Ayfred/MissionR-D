{
 "cells": [
  {
   "attachments": {},
   "cell_type": "markdown",
   "metadata": {},
   "source": [
    "Importation des libraries"
   ]
  },
  {
   "cell_type": "code",
   "execution_count": null,
   "metadata": {},
   "outputs": [],
   "source": [
    "from bs4 import BeautifulSoup\n",
    "import requests\n",
    "import pandas as pd\n",
    "import numpy as np\n",
    "from google_play_scraper import Sort, reviews_all, reviews, app"
   ]
  },
  {
   "attachments": {},
   "cell_type": "markdown",
   "metadata": {},
   "source": [
    "Extraction des applications sur la plateforme Google Play Store française"
   ]
  },
  {
   "cell_type": "code",
   "execution_count": 1,
   "metadata": {},
   "outputs": [],
   "source": [
    "url='https://play.google.com/store/search?q=health&c=apps&hl=fr'\n",
    "req=requests.get(url)\n",
    "\n",
    "soup = BeautifulSoup(req.content, 'html.parser')\n",
    "\n",
    "cards= soup.find_all(\"div\",class_=\"VfPpkd-EScbFb-JIbuQc TAQqTe\")"
   ]
  },
  {
   "attachments": {},
   "cell_type": "markdown",
   "metadata": {},
   "source": [
    "On stocke les données des applications (identifiant de l'application, les descriptions, les liens, etc...)"
   ]
  },
  {
   "cell_type": "code",
   "execution_count": 2,
   "metadata": {},
   "outputs": [
    {
     "name": "stdout",
     "output_type": "stream",
     "text": [
      "App: Samsung Health\n",
      "Company: Samsung Electronics Co.,  Ltd.\n",
      "Link : /store/apps/details?id=com.sec.android.app.shealth\n",
      "id : com.sec.android.app.shealth\n",
      "https://play.google.com/store/apps/details?id=com.sec.android.app.shealth\n",
      "App: Google Fit: Activity Tracking\n",
      "Company: Google LLC\n",
      "Link : /store/apps/details?id=com.google.android.apps.fitness\n",
      "id : com.google.android.apps.fitness\n",
      "https://play.google.com/store/apps/details?id=com.google.android.apps.fitness\n",
      "App: Health Connect (Beta)\n",
      "Company: Google LLC\n",
      "Link : /store/apps/details?id=com.google.android.apps.healthdata\n",
      "id : com.google.android.apps.healthdata\n",
      "https://play.google.com/store/apps/details?id=com.google.android.apps.healthdata\n",
      "App: Health App\n",
      "Company: Faraaz\n",
      "Link : /store/apps/details?id=com.gmail.faraazvora010.healthapp\n",
      "id : com.gmail.faraazvora010.healthapp\n",
      "https://play.google.com/store/apps/details?id=com.gmail.faraazvora010.healthapp\n",
      "App: Step Tracker - Pedometer\n",
      "Company: Leap Fitness Group\n",
      "Link : /store/apps/details?id=steptracker.healthandfitness.walkingtracker.pedometer\n",
      "id : steptracker.healthandfitness.walkingtracker.pedometer\n",
      "https://play.google.com/store/apps/details?id=steptracker.healthandfitness.walkingtracker.pedometer\n",
      "App: Withings Health Mate\n",
      "Company: Withings\n",
      "Link : /store/apps/details?id=com.withings.wiscale2\n",
      "id : com.withings.wiscale2\n",
      "https://play.google.com/store/apps/details?id=com.withings.wiscale2\n",
      "App: Health & Fitness Tracker\n",
      "Company: DROID INFINITY\n",
      "Link : /store/apps/details?id=com.droidinfinity.healthplus\n",
      "id : com.droidinfinity.healthplus\n",
      "https://play.google.com/store/apps/details?id=com.droidinfinity.healthplus\n",
      "App: MyChart\n",
      "Company: Epic Systems Corporation\n",
      "Link : /store/apps/details?id=epic.mychart.android\n",
      "id : epic.mychart.android\n",
      "https://play.google.com/store/apps/details?id=epic.mychart.android\n",
      "App: MyFitnessPal: Calorie Counter\n",
      "Company: MyFitnessPal, Inc.\n",
      "Link : /store/apps/details?id=com.myfitnesspal.android\n",
      "id : com.myfitnesspal.android\n",
      "https://play.google.com/store/apps/details?id=com.myfitnesspal.android\n",
      "App: Google Health Studies\n",
      "Company: Google LLC\n",
      "Link : /store/apps/details?id=com.google.android.apps.health.research.studies\n",
      "id : com.google.android.apps.health.research.studies\n",
      "https://play.google.com/store/apps/details?id=com.google.android.apps.health.research.studies\n",
      "App: Lifesum: Healthy Eating & Diet\n",
      "Company: Lifesum\n",
      "Link : /store/apps/details?id=com.sillens.shapeupclub\n",
      "id : com.sillens.shapeupclub\n",
      "https://play.google.com/store/apps/details?id=com.sillens.shapeupclub\n",
      "App: Samsung Health\n",
      "Company: Samsung Electronics Co.,  Ltd.\n",
      "Link : /store/apps/details?id=com.samsung.android.wear.shealth\n",
      "id : com.samsung.android.wear.shealth\n",
      "https://play.google.com/store/apps/details?id=com.samsung.android.wear.shealth\n",
      "App: Health Sync\n",
      "Company: appyhapps.nl\n",
      "Link : /store/apps/details?id=nl.appyhapps.healthsync\n",
      "id : nl.appyhapps.healthsync\n",
      "https://play.google.com/store/apps/details?id=nl.appyhapps.healthsync\n",
      "App: K Health | 24/7 Virtual Care\n",
      "Company: K Health\n",
      "Link : /store/apps/details?id=ai.kanghealth\n",
      "id : ai.kanghealth\n",
      "https://play.google.com/store/apps/details?id=ai.kanghealth\n",
      "App: Health Pal - Fitness, Weight l\n",
      "Company: Digit Grove\n",
      "Link : /store/apps/details?id=com.androidapps.healthmanager\n",
      "id : com.androidapps.healthmanager\n",
      "https://play.google.com/store/apps/details?id=com.androidapps.healthmanager\n",
      "App: Health Platform\n",
      "Company: Samsung Electronics Co.,  Ltd.\n",
      "Link : /store/apps/details?id=com.samsung.android.service.health\n",
      "id : com.samsung.android.service.health\n",
      "https://play.google.com/store/apps/details?id=com.samsung.android.service.health\n",
      "App: FollowMyHealth®\n",
      "Company: Allscripts Healthcare Solutions Inc\n",
      "Link : /store/apps/details?id=com.jardogs.fmhmobile\n",
      "id : com.jardogs.fmhmobile\n",
      "https://play.google.com/store/apps/details?id=com.jardogs.fmhmobile\n",
      "App: healow\n",
      "Company: eClinicalWorks LLC\n",
      "Link : /store/apps/details?id=com.ecw.healow\n",
      "id : com.ecw.healow\n",
      "https://play.google.com/store/apps/details?id=com.ecw.healow\n",
      "App: Ada – check your health\n",
      "Company: Ada Health\n",
      "Link : /store/apps/details?id=com.ada.app\n",
      "id : com.ada.app\n",
      "https://play.google.com/store/apps/details?id=com.ada.app\n",
      "App: OnePlus Health\n",
      "Company: OnePlus Ltd.\n",
      "Link : /store/apps/details?id=com.oneplus.health.international\n",
      "id : com.oneplus.health.international\n",
      "https://play.google.com/store/apps/details?id=com.oneplus.health.international\n",
      "App: HeyTap Health\n",
      "Company: ColorOS\n",
      "Link : /store/apps/details?id=com.heytap.health.international\n",
      "id : com.heytap.health.international\n",
      "https://play.google.com/store/apps/details?id=com.heytap.health.international\n",
      "App: Calorie Counter App: Fooducate\n",
      "Company: Maple Media\n",
      "Link : /store/apps/details?id=com.fooducate.nutritionapp\n",
      "id : com.fooducate.nutritionapp\n",
      "https://play.google.com/store/apps/details?id=com.fooducate.nutritionapp\n",
      "App: Personal Health Monitor\n",
      "Company: Extrawest\n",
      "Link : /store/apps/details?id=com.extrawest.healthcare_flutter_app\n",
      "id : com.extrawest.healthcare_flutter_app\n",
      "https://play.google.com/store/apps/details?id=com.extrawest.healthcare_flutter_app\n",
      "App: Noom: Weight Loss & Health\n",
      "Company: Noom Inc.\n",
      "Link : /store/apps/details?id=com.wsl.noom\n",
      "id : com.wsl.noom\n",
      "https://play.google.com/store/apps/details?id=com.wsl.noom\n",
      "App: ‎MyPossibleSelf: Mental Health\n",
      "Company: My Possible Self Ltd\n",
      "Link : /store/apps/details?id=com.mypossibleself.app\n",
      "id : com.mypossibleself.app\n",
      "https://play.google.com/store/apps/details?id=com.mypossibleself.app\n",
      "App: Healthy Together\n",
      "Company: Twenty Inc.\n",
      "Link : /store/apps/details?id=co.twenty.stop.spread\n",
      "id : co.twenty.stop.spread\n",
      "https://play.google.com/store/apps/details?id=co.twenty.stop.spread\n",
      "App: Healthy Benefits+\n",
      "Company: Solutran, Inc.\n",
      "Link : /store/apps/details?id=com.solutran.otc\n",
      "id : com.solutran.otc\n",
      "https://play.google.com/store/apps/details?id=com.solutran.otc\n",
      "App: Sydney Health\n",
      "Company: Elevance Health, Inc.\n",
      "Link : /store/apps/details?id=com.anthem.sydney\n",
      "id : com.anthem.sydney\n",
      "https://play.google.com/store/apps/details?id=com.anthem.sydney\n",
      "App: Fitbit\n",
      "Company: Fitbit LLC\n",
      "Link : /store/apps/details?id=com.fitbit.FitbitMobile\n",
      "id : com.fitbit.FitbitMobile\n",
      "https://play.google.com/store/apps/details?id=com.fitbit.FitbitMobile\n",
      "App: HealtheLife\n",
      "Company: Cerner Corporation\n",
      "Link : /store/apps/details?id=com.cerner.iris.play\n",
      "id : com.cerner.iris.play\n",
      "https://play.google.com/store/apps/details?id=com.cerner.iris.play\n"
     ]
    }
   ],
   "source": [
    "Links = []\n",
    "id = []\n",
    "i = 0\n",
    "for card in cards:\n",
    "    app_name= card.find(\"span\",class_=\"DdYX5\").text\n",
    "    company = card.find(\"span\",class_=\"wMUdtb\").text\n",
    "    link = card.find(\"a\", class_ =\"Si6A0c Gy4nib\")['href']\n",
    "    #print(link+ \"&hl=fr\")\n",
    "    #id.append(link[23:]+ \"&hl=fr\")\n",
    "    id.append(link[23:])\n",
    "\n",
    "    Links.append(\"https://play.google.com\"+ link)\n",
    "\n",
    "    #print(\"App: \" +app_name)\n",
    "    #print(\"Company: \" + company)\n",
    "    #print(\"Link : \" + link)\n",
    "    #print(\"id : \" + id[i])\n",
    "    #print(Links[i])\n",
    "    i += 1\n"
   ]
  },
  {
   "attachments": {},
   "cell_type": "markdown",
   "metadata": {},
   "source": [
    "On teste sur la première application (Samsung Health)"
   ]
  },
  {
   "cell_type": "code",
   "execution_count": null,
   "metadata": {},
   "outputs": [],
   "source": [
    "single_id = id[0]"
   ]
  },
  {
   "attachments": {},
   "cell_type": "markdown",
   "metadata": {},
   "source": [
    "On utilise Google Play Scraper pour extraire les commentaires"
   ]
  },
  {
   "cell_type": "code",
   "execution_count": 7,
   "metadata": {},
   "outputs": [],
   "source": [
    "fr_reviews = reviews_all(\n",
    "    single_id,\n",
    "    sleep_milliseconds=0, # defaults to 0\n",
    "    lang='en', # defaults to 'en'\n",
    "    country='us', # defaults to 'us'\n",
    "    sort=Sort.NEWEST, # defaults to Sort.MOST_RELEVANT\n",
    ")"
   ]
  },
  {
   "attachments": {},
   "cell_type": "markdown",
   "metadata": {},
   "source": [
    "Affichage et stockage des données extraites"
   ]
  },
  {
   "cell_type": "code",
   "execution_count": 9,
   "metadata": {},
   "outputs": [
    {
     "data": {
      "text/html": [
       "<div>\n",
       "<style scoped>\n",
       "    .dataframe tbody tr th:only-of-type {\n",
       "        vertical-align: middle;\n",
       "    }\n",
       "\n",
       "    .dataframe tbody tr th {\n",
       "        vertical-align: top;\n",
       "    }\n",
       "\n",
       "    .dataframe thead th {\n",
       "        text-align: right;\n",
       "    }\n",
       "</style>\n",
       "<table border=\"1\" class=\"dataframe\">\n",
       "  <thead>\n",
       "    <tr style=\"text-align: right;\">\n",
       "      <th></th>\n",
       "      <th>reviewId</th>\n",
       "      <th>userName</th>\n",
       "      <th>userImage</th>\n",
       "      <th>content</th>\n",
       "      <th>score</th>\n",
       "      <th>thumbsUpCount</th>\n",
       "      <th>reviewCreatedVersion</th>\n",
       "      <th>at</th>\n",
       "      <th>replyContent</th>\n",
       "      <th>repliedAt</th>\n",
       "    </tr>\n",
       "  </thead>\n",
       "  <tbody>\n",
       "    <tr>\n",
       "      <th>0</th>\n",
       "      <td>39b2e192-bd25-438d-b59f-690e80127a92</td>\n",
       "      <td>Deebo</td>\n",
       "      <td>https://play-lh.googleusercontent.com/a-/ACB-R...</td>\n",
       "      <td>Nicely designed, has a good selection of worko...</td>\n",
       "      <td>4</td>\n",
       "      <td>121</td>\n",
       "      <td>6.23.3.003</td>\n",
       "      <td>2023-03-05 21:11:25</td>\n",
       "      <td>Hi, Deebo! We appreciate that you gave the app...</td>\n",
       "      <td>2023-03-06 18:27:23</td>\n",
       "    </tr>\n",
       "    <tr>\n",
       "      <th>1</th>\n",
       "      <td>5693c196-0361-47f7-ac35-4a5362154960</td>\n",
       "      <td>D. O'Neil</td>\n",
       "      <td>https://play-lh.googleusercontent.com/a/AGNmyx...</td>\n",
       "      <td>Good but buggy. There also appears to be no wa...</td>\n",
       "      <td>2</td>\n",
       "      <td>8</td>\n",
       "      <td>6.23.0.063</td>\n",
       "      <td>2023-03-07 02:11:22</td>\n",
       "      <td>Hi, D. O'Neil! We are sorry to hear about your...</td>\n",
       "      <td>2023-03-07 19:14:35</td>\n",
       "    </tr>\n",
       "    <tr>\n",
       "      <th>2</th>\n",
       "      <td>18acbb16-1929-458e-a6b7-3121c6f2dfc3</td>\n",
       "      <td>Michael Gorman</td>\n",
       "      <td>https://play-lh.googleusercontent.com/a/AGNmyx...</td>\n",
       "      <td>Mediocre at best. Features frequently don't wo...</td>\n",
       "      <td>2</td>\n",
       "      <td>47</td>\n",
       "      <td>6.23.0.063</td>\n",
       "      <td>2023-02-10 03:10:28</td>\n",
       "      <td>Hi, Michael Gorman! We are sorry to hear about...</td>\n",
       "      <td>2023-02-12 13:54:33</td>\n",
       "    </tr>\n",
       "    <tr>\n",
       "      <th>3</th>\n",
       "      <td>ce03f8f8-6203-44ac-a30a-4235c81f6540</td>\n",
       "      <td>Jacob Burgo</td>\n",
       "      <td>https://play-lh.googleusercontent.com/a-/ACB-R...</td>\n",
       "      <td>ECG is about as reliable as picking a piece of...</td>\n",
       "      <td>2</td>\n",
       "      <td>54</td>\n",
       "      <td>6.23.0.063</td>\n",
       "      <td>2023-02-03 20:36:39</td>\n",
       "      <td>Hi, Jacob Burgo! We are sorry to hear about yo...</td>\n",
       "      <td>2023-02-05 16:03:02</td>\n",
       "    </tr>\n",
       "    <tr>\n",
       "      <th>4</th>\n",
       "      <td>76ed9820-b82b-464e-aac7-bd958f52c7da</td>\n",
       "      <td>Doris Allen</td>\n",
       "      <td>https://play-lh.googleusercontent.com/a-/ACB-R...</td>\n",
       "      <td>I have this synced with another app and used t...</td>\n",
       "      <td>4</td>\n",
       "      <td>31</td>\n",
       "      <td>6.23.0.063</td>\n",
       "      <td>2023-02-19 06:25:26</td>\n",
       "      <td>Hi, Doris Allen! We are sorry to hear about yo...</td>\n",
       "      <td>2023-02-26 13:13:48</td>\n",
       "    </tr>\n",
       "  </tbody>\n",
       "</table>\n",
       "</div>"
      ],
      "text/plain": [
       "                               reviewId        userName  \\\n",
       "0  39b2e192-bd25-438d-b59f-690e80127a92           Deebo   \n",
       "1  5693c196-0361-47f7-ac35-4a5362154960       D. O'Neil   \n",
       "2  18acbb16-1929-458e-a6b7-3121c6f2dfc3  Michael Gorman   \n",
       "3  ce03f8f8-6203-44ac-a30a-4235c81f6540     Jacob Burgo   \n",
       "4  76ed9820-b82b-464e-aac7-bd958f52c7da     Doris Allen   \n",
       "\n",
       "                                           userImage  \\\n",
       "0  https://play-lh.googleusercontent.com/a-/ACB-R...   \n",
       "1  https://play-lh.googleusercontent.com/a/AGNmyx...   \n",
       "2  https://play-lh.googleusercontent.com/a/AGNmyx...   \n",
       "3  https://play-lh.googleusercontent.com/a-/ACB-R...   \n",
       "4  https://play-lh.googleusercontent.com/a-/ACB-R...   \n",
       "\n",
       "                                             content  score  thumbsUpCount  \\\n",
       "0  Nicely designed, has a good selection of worko...      4            121   \n",
       "1  Good but buggy. There also appears to be no wa...      2              8   \n",
       "2  Mediocre at best. Features frequently don't wo...      2             47   \n",
       "3  ECG is about as reliable as picking a piece of...      2             54   \n",
       "4  I have this synced with another app and used t...      4             31   \n",
       "\n",
       "  reviewCreatedVersion                  at  \\\n",
       "0           6.23.3.003 2023-03-05 21:11:25   \n",
       "1           6.23.0.063 2023-03-07 02:11:22   \n",
       "2           6.23.0.063 2023-02-10 03:10:28   \n",
       "3           6.23.0.063 2023-02-03 20:36:39   \n",
       "4           6.23.0.063 2023-02-19 06:25:26   \n",
       "\n",
       "                                        replyContent           repliedAt  \n",
       "0  Hi, Deebo! We appreciate that you gave the app... 2023-03-06 18:27:23  \n",
       "1  Hi, D. O'Neil! We are sorry to hear about your... 2023-03-07 19:14:35  \n",
       "2  Hi, Michael Gorman! We are sorry to hear about... 2023-02-12 13:54:33  \n",
       "3  Hi, Jacob Burgo! We are sorry to hear about yo... 2023-02-05 16:03:02  \n",
       "4  Hi, Doris Allen! We are sorry to hear about yo... 2023-02-26 13:13:48  "
      ]
     },
     "execution_count": 9,
     "metadata": {},
     "output_type": "execute_result"
    }
   ],
   "source": [
    "df_busu = pd.DataFrame(np.array(fr_reviews),columns=['review'])\n",
    "\n",
    "df_busu = df_busu.join(pd.DataFrame(df_busu.pop('review').tolist()))\n",
    "\n",
    "df_busu.head()"
   ]
  },
  {
   "attachments": {},
   "cell_type": "markdown",
   "metadata": {},
   "source": [
    "On enregistre le DataFrame sous forme d'un fichier csv pour traiter ces données"
   ]
  },
  {
   "cell_type": "code",
   "execution_count": 36,
   "metadata": {},
   "outputs": [],
   "source": [
    "df_busu['content'].to_csv(\"GooglePlayReviewsFR.csv\", index = False, header = True, encoding='utf-8')"
   ]
  },
  {
   "attachments": {},
   "cell_type": "markdown",
   "metadata": {},
   "source": [
    "Extraction des données des applications"
   ]
  },
  {
   "cell_type": "code",
   "execution_count": 27,
   "metadata": {},
   "outputs": [],
   "source": [
    "result = app(\n",
    "    single_id,\n",
    "    lang='fr', # defaults to 'en'\n",
    "    country='fr' # defaults to 'us'\n",
    ")"
   ]
  },
  {
   "attachments": {},
   "cell_type": "markdown",
   "metadata": {},
   "source": [
    "Extraction des descriptions des applications"
   ]
  },
  {
   "cell_type": "code",
   "execution_count": 33,
   "metadata": {},
   "outputs": [
    {
     "data": {
      "text/html": [
       "<div>\n",
       "<style scoped>\n",
       "    .dataframe tbody tr th:only-of-type {\n",
       "        vertical-align: middle;\n",
       "    }\n",
       "\n",
       "    .dataframe tbody tr th {\n",
       "        vertical-align: top;\n",
       "    }\n",
       "\n",
       "    .dataframe thead th {\n",
       "        text-align: right;\n",
       "    }\n",
       "</style>\n",
       "<table border=\"1\" class=\"dataframe\">\n",
       "  <thead>\n",
       "    <tr style=\"text-align: right;\">\n",
       "      <th></th>\n",
       "      <th>description</th>\n",
       "    </tr>\n",
       "  </thead>\n",
       "  <tbody>\n",
       "    <tr>\n",
       "      <th>0</th>\n",
       "      <td>Commencez à prendre des habitudes saines grâce...</td>\n",
       "    </tr>\n",
       "    <tr>\n",
       "      <th>1</th>\n",
       "      <td>Optez pour une vie plus saine et plus active a...</td>\n",
       "    </tr>\n",
       "    <tr>\n",
       "      <th>2</th>\n",
       "      <td>Avec Santé Connect par Android, partagez facil...</td>\n",
       "    </tr>\n",
       "    <tr>\n",
       "      <th>3</th>\n",
       "      <td>Que vous cherchiez à être plus actif, à perdre...</td>\n",
       "    </tr>\n",
       "    <tr>\n",
       "      <th>4</th>\n",
       "      <td>Le tracker de pas le plus &lt;b&gt;simple et précis&lt;...</td>\n",
       "    </tr>\n",
       "  </tbody>\n",
       "</table>\n",
       "</div>"
      ],
      "text/plain": [
       "                                         description\n",
       "0  Commencez à prendre des habitudes saines grâce...\n",
       "1  Optez pour une vie plus saine et plus active a...\n",
       "2  Avec Santé Connect par Android, partagez facil...\n",
       "3  Que vous cherchiez à être plus actif, à perdre...\n",
       "4  Le tracker de pas le plus <b>simple et précis<..."
      ]
     },
     "execution_count": 33,
     "metadata": {},
     "output_type": "execute_result"
    }
   ],
   "source": [
    "data = {'description':[]}\n",
    "\n",
    "for i in id:\n",
    "    result = app(\n",
    "        i,\n",
    "        lang='fr', # defaults to 'en'\n",
    "        country='fr' # defaults to 'us'\n",
    "    )\n",
    "    data[\"description\"].append(result[\"description\"])\n",
    "\n",
    "df = pd.DataFrame(data)\n",
    "df.head()"
   ]
  },
  {
   "attachments": {},
   "cell_type": "markdown",
   "metadata": {},
   "source": [
    "On enregiste ces données sur un fichier csv"
   ]
  },
  {
   "cell_type": "code",
   "execution_count": null,
   "metadata": {},
   "outputs": [],
   "source": [
    "df.to_csv(\"GooglePlayDescFR.csv\", index = False, header = True, encoding='utf-8')"
   ]
  }
 ],
 "metadata": {
  "kernelspec": {
   "display_name": "Python 3",
   "language": "python",
   "name": "python3"
  },
  "language_info": {
   "codemirror_mode": {
    "name": "ipython",
    "version": 3
   },
   "file_extension": ".py",
   "mimetype": "text/x-python",
   "name": "python",
   "nbconvert_exporter": "python",
   "pygments_lexer": "ipython3",
   "version": "3.11.0"
  },
  "orig_nbformat": 4,
  "vscode": {
   "interpreter": {
    "hash": "2a805c939253dd78ab80805c33908398d8b908c1d768f626811873916a950a6f"
   }
  }
 },
 "nbformat": 4,
 "nbformat_minor": 2
}
