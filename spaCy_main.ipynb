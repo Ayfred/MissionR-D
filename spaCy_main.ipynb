{
 "cells": [
  {
   "attachments": {},
   "cell_type": "markdown",
   "metadata": {},
   "source": [
    "Téléchargement des packages Python/spaCy"
   ]
  },
  {
   "cell_type": "code",
   "execution_count": null,
   "metadata": {},
   "outputs": [],
   "source": [
    "!python -m spacy download fr_core_news_sm"
   ]
  },
  {
   "attachments": {},
   "cell_type": "markdown",
   "metadata": {},
   "source": [
    "Imports"
   ]
  },
  {
   "cell_type": "code",
   "execution_count": 1,
   "metadata": {},
   "outputs": [],
   "source": [
    "import spacy\n",
    "from spacy.matcher import Matcher\n",
    "from spacy.lang.fr.examples import sentences "
   ]
  },
  {
   "cell_type": "markdown",
   "metadata": {},
   "source": [
    "Exemple de textes"
   ]
  },
  {
   "cell_type": "code",
   "execution_count": 16,
   "metadata": {},
   "outputs": [
    {
     "name": "stdout",
     "output_type": "stream",
     "text": [
      "Clémentine a dit Léo-Paul Wikipédia il l'appelle laura, La ponctuation est génial l’ensemble des signes qui, dans l’écrit, marquent les divisions et les liaisons des phrases et des membres 'de phrase' . Vous pouvez en apprendre plus sur \"la ponctuation\" en visitant ce site: https://www.larousse.fr/dictionnaires/francais/ponctuation/63717 parce que ce lien donne beaucoup d'informations intéressantes. 😊\n"
     ]
    }
   ],
   "source": [
    "text = \"Clémentine a dit Léo-Paul Wikipédia il l'appelle laura, La ponctuation est génial l’ensemble des signes qui, dans l’écrit, marquent les divisions et les liaisons des phrases et des membres 'de phrase' . Vous pouvez en apprendre plus sur \\\"la ponctuation\\\" en visitant ce site: https://www.larousse.fr/dictionnaires/francais/ponctuation/63717 parce que ce lien donne beaucoup d'informations intéressantes. 😊\"\n",
    "print(text)"
   ]
  },
  {
   "attachments": {},
   "cell_type": "markdown",
   "metadata": {},
   "source": [
    "Etapes du texte preprocessing"
   ]
  },
  {
   "cell_type": "code",
   "execution_count": 10,
   "metadata": {},
   "outputs": [],
   "source": [
    "nlp = spacy.load(\"fr_core_news_sm\")\n",
    "matcher = Matcher(nlp.vocab)"
   ]
  },
  {
   "attachments": {},
   "cell_type": "markdown",
   "metadata": {},
   "source": [
    "Tokenize sentences"
   ]
  },
  {
   "cell_type": "code",
   "execution_count": 17,
   "metadata": {},
   "outputs": [],
   "source": [
    "doc = nlp(text)"
   ]
  },
  {
   "cell_type": "code",
   "execution_count": 18,
   "metadata": {},
   "outputs": [
    {
     "name": "stdout",
     "output_type": "stream",
     "text": [
      "Clémentine NOUN\n",
      "a AUX\n",
      "dit VERB\n",
      "Léo PROPN\n",
      "- PROPN\n",
      "Paul PROPN\n",
      "Wikipédia PROPN\n",
      "il PRON\n",
      "l' PRON\n",
      "appelle VERB\n",
      "laura VERB\n",
      ", PUNCT\n",
      "La DET\n",
      "ponctuation NOUN\n",
      "est AUX\n",
      "génial ADJ\n",
      "l’ ADJ\n",
      "ensemble VERB\n",
      "des ADP\n",
      "signes NOUN\n",
      "qui PRON\n",
      ", PUNCT\n",
      "dans ADP\n",
      "l’ NOUN\n",
      "écrit VERB\n",
      ", PUNCT\n",
      "marquent VERB\n",
      "les DET\n",
      "divisions NOUN\n",
      "et CCONJ\n",
      "les DET\n",
      "liaisons NOUN\n",
      "des ADP\n",
      "phrases NOUN\n",
      "et CCONJ\n",
      "des ADP\n",
      "membres NOUN\n",
      "' PUNCT\n",
      "de ADP\n",
      "phrase NOUN\n",
      "' PUNCT\n",
      ". PUNCT\n",
      "Vous PRON\n",
      "pouvez VERB\n",
      "en ADP\n",
      "apprendre VERB\n",
      "plus ADV\n",
      "sur ADP\n",
      "\" PUNCT\n",
      "la DET\n",
      "ponctuation NOUN\n",
      "\" PUNCT\n",
      "en ADP\n",
      "visitant VERB\n",
      "ce DET\n",
      "site NOUN\n",
      ": PUNCT\n",
      "https://www.larousse.fr/dictionnaires/francais/ponctuation/63717 NOUN\n",
      "parce SCONJ\n",
      "que SCONJ\n",
      "ce DET\n",
      "lien NOUN\n",
      "donne VERB\n",
      "beaucoup ADV\n",
      "d' ADP\n",
      "informations NOUN\n",
      "intéressantes ADJ\n",
      ". PUNCT\n",
      "😊 ADV\n"
     ]
    }
   ],
   "source": [
    "# Iterate over the tokens\n",
    "for token in doc:\n",
    "    # Print the text and the predicted part-of-speech tag\n",
    "    print(token.text, token.pos_)\n"
   ]
  },
  {
   "attachments": {},
   "cell_type": "markdown",
   "metadata": {},
   "source": [
    "Removes explanations"
   ]
  },
  {
   "attachments": {},
   "cell_type": "markdown",
   "metadata": {},
   "source": [
    "Filter noises"
   ]
  },
  {
   "cell_type": "code",
   "execution_count": 7,
   "metadata": {},
   "outputs": [
    {
     "name": "stdout",
     "output_type": "stream",
     "text": [
      "Selon Wikipédia il l'appelle laura, La ponctuation est génial l’ensemble des signes qui, dans l’écrit, marquent les divisions et les liaisons des phrases et des membres 'de phrase' . Vous pouvez en apprendre plus sur \"la ponctuation\" en visitant ce site:  parce que ce lien donne beaucoup d'informations intéressantes. 😊\n"
     ]
    }
   ],
   "source": [
    "#remove url\n",
    "import re\n",
    "\n",
    "text = re.sub('http[s]?://\\S+', '', text)\n",
    "print(text)\n",
    "doc = nlp(text)"
   ]
  },
  {
   "attachments": {},
   "cell_type": "markdown",
   "metadata": {},
   "source": [
    "Quotes detector"
   ]
  },
  {
   "cell_type": "code",
   "execution_count": 8,
   "metadata": {},
   "outputs": [
    {
     "name": "stdout",
     "output_type": "stream",
     "text": [
      "Selon Wikipédia il l' appelle laura , La ponctuation est génial l’ ensemble des signes qui , dans l’ écrit , marquent les divisions et les liaisons des phrases et des membres . Vous pouvez en apprendre plus sur en visitant ce site :   parce que ce lien donne beaucoup d' informations intéressantes . 😊 \n"
     ]
    }
   ],
   "source": [
    "filtered_text_1 = \"\"\n",
    "Punc_list = ['\"', \"'\"]\n",
    "boolean_punct = False\n",
    "\n",
    "for token in doc:\n",
    "    if not token.text in Punc_list:\n",
    "        if not boolean_punct:\n",
    "            filtered_text_1 += token.text\n",
    "            filtered_text_1 += \" \"\n",
    "    else :\n",
    "        if boolean_punct :\n",
    "            boolean_punct = False\n",
    "        else :\n",
    "            boolean_punct = True\n",
    "\n",
    "print(filtered_text_1)"
   ]
  },
  {
   "attachments": {},
   "cell_type": "markdown",
   "metadata": {},
   "source": [
    "Contact"
   ]
  },
  {
   "cell_type": "code",
   "execution_count": 19,
   "metadata": {},
   "outputs": [
    {
     "name": "stdout",
     "output_type": "stream",
     "text": [
      "Selon Wikipédia il l' appelle Laura , La ponctuation est génial l’ ensemble des signes qui , dans l’ écrit , marquent les divisions et les liaisons des phrases et des membres . Vous pouvez en apprendre plus sur en visitant ce site : https://www.larousse.fr/dictionnaires/francais/ponctuation/63717 parce que ce lien donne beaucoup d' informations intéressantes . 😊 \n"
     ]
    }
   ],
   "source": [
    "import re\n",
    "\n",
    "# Sample sentence\n",
    "sentence = filtered_text_1\n",
    "\n",
    "# Regular expressions for phone numbers and email addresses\n",
    "phone_regex = r\"(?<!\\d)(?:\\d[ -/\\\\_\\d]*){10}(?!\\d)\"\n",
    "email_regex = r\"[a-zA-Z0-9._%+-]+@[a-zA-Z0-9.-]+\\.[a-zA-Z]{2,}\"  # matches john.doe@example.com\n",
    "\n",
    "# Find phone numbers and email addresses in the sentence\n",
    "sentence = re.sub(phone_regex,\"\", sentence)\n",
    "sentence = re.sub(email_regex,\"\", sentence)\n",
    "\n",
    "# Print the results\n",
    "print(sentence)"
   ]
  },
  {
   "attachments": {},
   "cell_type": "markdown",
   "metadata": {},
   "source": [
    "Filter symbols"
   ]
  },
  {
   "cell_type": "code",
   "execution_count": null,
   "metadata": {},
   "outputs": [],
   "source": [
    "#remove symbols\n",
    "ex = \"HEllo !!! I'm a test for this example. Does it work ? lets add difficulty : @ é ou & \\\"&&\\\" 🙂\"\n",
    "test = re.sub(r'[^\\w]', ' ', ex)\n",
    "print(test)"
   ]
  },
  {
   "attachments": {},
   "cell_type": "markdown",
   "metadata": {},
   "source": [
    "Remove subordinates"
   ]
  },
  {
   "attachments": {},
   "cell_type": "markdown",
   "metadata": {},
   "source": [
    "Remove custom stop words"
   ]
  },
  {
   "cell_type": "code",
   "execution_count": null,
   "metadata": {},
   "outputs": [],
   "source": [
    "import spacy\n",
    "\n",
    "#create the stop words list\n",
    "\n",
    "nlp = spacy.load(\"fr_core_news_sm\")\n",
    "\n",
    "ssw = nlp.Defaults.stop_words\n",
    "lsw = [str(x) for x in ssw]\n",
    "print (lsw)"
   ]
  },
  {
   "cell_type": "code",
   "execution_count": null,
   "metadata": {},
   "outputs": [],
   "source": [
    "example = \"Ceci est un court texte faisant prealable avant qu'un different soit relativement tiens, cinq antérieures derrière cent personnes venues de contrées nouvelles que tu verras nombreux\"\n",
    "\n",
    "def removeStopWords(lsw, text):\n",
    "    lastSapce = 0\n",
    "    splitext = text.split(\" \")\n",
    "    for word in splitext:\n",
    "        if word in lsw:\n",
    "            splitext.remove(word)\n",
    "    return ' '.join(splitext)\n",
    "\n",
    "test = removeStopWords(lsw, example)\n",
    "print(test)"
   ]
  },
  {
   "attachments": {},
   "cell_type": "markdown",
   "metadata": {},
   "source": [
    "Apply POS tagging"
   ]
  },
  {
   "cell_type": "code",
   "execution_count": 20,
   "metadata": {},
   "outputs": [],
   "source": [
    "doc = nlp(text)"
   ]
  },
  {
   "cell_type": "code",
   "execution_count": 21,
   "metadata": {},
   "outputs": [
    {
     "name": "stdout",
     "output_type": "stream",
     "text": [
      "Selon ADP\n",
      "Wikipédia PROPN\n",
      "il PRON\n",
      "l' PRON\n",
      "appelle VERB\n",
      "Laura PROPN\n",
      ", PUNCT\n",
      "La DET\n",
      "ponctuation NOUN\n",
      "est AUX\n",
      "génial ADJ\n",
      "l’ ADJ\n",
      "ensemble VERB\n",
      "des ADP\n",
      "signes NOUN\n",
      "qui PRON\n",
      ", PUNCT\n",
      "dans ADP\n",
      "l’ NOUN\n",
      "écrit VERB\n",
      ", PUNCT\n",
      "marquent VERB\n",
      "les DET\n",
      "divisions NOUN\n",
      "et CCONJ\n",
      "les DET\n",
      "liaisons NOUN\n",
      "des ADP\n",
      "phrases NOUN\n",
      "et CCONJ\n",
      "des ADP\n",
      "membres NOUN\n",
      "' PUNCT\n",
      "de ADP\n",
      "phrase NOUN\n",
      "' PUNCT\n",
      ". PUNCT\n",
      "Vous PRON\n",
      "pouvez VERB\n",
      "en ADP\n",
      "apprendre VERB\n",
      "plus ADV\n",
      "sur ADP\n",
      "\" PUNCT\n",
      "la DET\n",
      "ponctuation NOUN\n",
      "\" PUNCT\n",
      "en ADP\n",
      "visitant VERB\n",
      "ce DET\n",
      "site NOUN\n",
      ": PUNCT\n",
      "https://www.larousse.fr/dictionnaires/francais/ponctuation/63717 NOUN\n",
      "parce SCONJ\n",
      "que SCONJ\n",
      "ce DET\n",
      "lien NOUN\n",
      "donne VERB\n",
      "beaucoup ADV\n",
      "d' ADP\n",
      "informations NOUN\n",
      "intéressantes ADJ\n",
      ". PUNCT\n",
      "😊 ADV\n"
     ]
    }
   ],
   "source": [
    "# Iterate over the tokens\n",
    "for token in doc:\n",
    "    # Print the text and the predicted part-of-speech tag\n",
    "    print(token.text, token.pos_)\n"
   ]
  },
  {
   "cell_type": "code",
   "execution_count": 22,
   "metadata": {},
   "outputs": [],
   "source": [
    "matcher = Matcher(nlp.vocab)"
   ]
  }
 ],
 "metadata": {
  "kernelspec": {
   "display_name": "Python 3",
   "language": "python",
   "name": "python3"
  },
  "language_info": {
   "codemirror_mode": {
    "name": "ipython",
    "version": 3
   },
   "file_extension": ".py",
   "mimetype": "text/x-python",
   "name": "python",
   "nbconvert_exporter": "python",
   "pygments_lexer": "ipython3",
   "version": "3.11.0"
  },
  "orig_nbformat": 4
 },
 "nbformat": 4,
 "nbformat_minor": 2
}
